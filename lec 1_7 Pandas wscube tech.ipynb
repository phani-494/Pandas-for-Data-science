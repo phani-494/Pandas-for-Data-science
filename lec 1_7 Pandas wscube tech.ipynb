{
 "cells": [
  {
   "cell_type": "markdown",
   "id": "4858ed11",
   "metadata": {},
   "source": [
    "# lec 1\n",
    "## What is Data Analysis - Complete tutorial"
   ]
  },
  {
   "cell_type": "markdown",
   "id": "e1c9c99a",
   "metadata": {},
   "source": [
    "#### Data Analysis is a processing of inspecting,cleaning,transforming, and modelling data with the goal of discovering useful information,informing conclusions,and supporting decision-making."
   ]
  },
  {
   "cell_type": "markdown",
   "id": "3151e043",
   "metadata": {},
   "source": [
    "# python libraries for Data Analysis\n",
    "1. Numpy\n",
    "2. Pandas\n",
    "3. Matplotlib\n",
    "4. SciPy\n",
    "5. Scikitlearn\n",
    "6. Seaborn\n",
    "7. statsmodel"
   ]
  },
  {
   "cell_type": "markdown",
   "id": "1c5d0dcc",
   "metadata": {},
   "source": [
    "### pandas means panel data "
   ]
  },
  {
   "cell_type": "markdown",
   "id": "f0da5e93",
   "metadata": {},
   "source": [
    "###  What is Pandas?\n",
    "1. The name \"pandas\" has a reference to both \"panel data\",and \"python data analysis\", and was created by wes mckinney in 2008.\n",
    "2. Pandas is apython library used for working with data sets.\n",
    "3. It has functions for analyzing,cleaning, exploring and manipulating data.\n",
    "4. Read and write data structures and different formats :csv,XML,JSON,ZIP etc."
   ]
  },
  {
   "cell_type": "markdown",
   "id": "41b68e1c",
   "metadata": {},
   "source": [
    "#### Pandas vs Excel"
   ]
  },
  {
   "cell_type": "markdown",
   "id": "b6d0585a",
   "metadata": {},
   "source": [
    "1. To filter the data which contains large data sets in lakhs of data, it is not an easy task to work in excel.\n",
    "2. Python has so many functions which will be helpful to work with such large amount of data and we can apply the filtering conditions to filter the data.\n",
    "\n",
    "\n"
   ]
  },
  {
   "cell_type": "markdown",
   "id": "02051471",
   "metadata": {},
   "source": [
    "###  Pandas Data Structures"
   ]
  },
  {
   "cell_type": "markdown",
   "id": "1397161f",
   "metadata": {},
   "source": [
    "1. Series--> one dimensional labeled arrays.\n",
    "2. DataFrame--> Two dimensional data structure with columns, much like a table.\n",
    "3.Panel--> It is a 3D container of data."
   ]
  },
  {
   "cell_type": "markdown",
   "id": "086b10f5",
   "metadata": {},
   "source": [
    "### Importance of Pandas in Python\n",
    "1. Pandas allows us to analyze the big data and make conclusions based on statistical theories.\n",
    "2. Pandas can clean messy data sets and make them readable and relevant.\n",
    "3. Easy handling of missing data (represented as NaN) in floating point as well as non-floating point data.\n",
    "4. Size mutability: Columns can be inserted and deleted from DataFrame and higher dimensional objects.\n",
    "5. Data set merging and joining: Flexible reshaping and pivoting of data sets provides real time-series funnctionality."
   ]
  },
  {
   "cell_type": "markdown",
   "id": "2597fb87",
   "metadata": {},
   "source": [
    "# lec 2\n",
    "## Data structure Pandas"
   ]
  },
  {
   "cell_type": "markdown",
   "id": "cd9934d3",
   "metadata": {},
   "source": [
    "### Series is a one dimensional array that is capable of storing various data types.\n",
    " 1. For a Series(), we can give arguments as data,index,name,dtype.\n",
    " 2. index,name,dtype are optional."
   ]
  },
  {
   "cell_type": "code",
   "execution_count": 5,
   "id": "ea9ce6db",
   "metadata": {},
   "outputs": [
    {
     "name": "stdout",
     "output_type": "stream",
     "text": [
      "0    1\n",
      "1    2\n",
      "2    3\n",
      "3    5\n",
      "4    4\n",
      "5    3\n",
      "6    2\n",
      "7    1\n",
      "dtype: int64\n"
     ]
    }
   ],
   "source": [
    "import pandas as pd\n",
    "s1=pd.Series([1,2,3,5,4,3,2,1])\n",
    "print(s1)"
   ]
  },
  {
   "cell_type": "code",
   "execution_count": 6,
   "id": "e7eae3ae",
   "metadata": {},
   "outputs": [
    {
     "name": "stdout",
     "output_type": "stream",
     "text": [
      "<class 'pandas.core.series.Series'>\n",
      "3\n"
     ]
    }
   ],
   "source": [
    "print(type(s1))\n",
    "print(s1[5])"
   ]
  },
  {
   "cell_type": "code",
   "execution_count": 14,
   "id": "ffe802d8",
   "metadata": {},
   "outputs": [
    {
     "name": "stdout",
     "output_type": "stream",
     "text": [
      "4     1\n",
      "5     2\n",
      "6     3\n",
      "7     5\n",
      "8     4\n",
      "9     3\n",
      "10    2\n",
      "11    1\n",
      "dtype: int64\n"
     ]
    }
   ],
   "source": [
    "a=[1,2,3,4,5,6,7,8,9,10,11,12,13,14]\n",
    "s2=pd.Series([1,2,3,5,4,3,2,1],index=a[3:11]) # suppose we want some other different indexing,then we can give like this.\n",
    "print(s2)"
   ]
  },
  {
   "cell_type": "code",
   "execution_count": 16,
   "id": "c638c3d8",
   "metadata": {},
   "outputs": [
    {
     "name": "stdout",
     "output_type": "stream",
     "text": [
      "0    1.0\n",
      "1    2.0\n",
      "2    3.0\n",
      "3    5.0\n",
      "4    4.0\n",
      "5    3.0\n",
      "6    2.0\n",
      "7    1.0\n",
      "Name: Series1, dtype: float32\n"
     ]
    }
   ],
   "source": [
    "s1=pd.Series([1,2,3,5,4,3,2,1],dtype=\"f\",name=\"Series1\")\n",
    "print(s1)"
   ]
  },
  {
   "cell_type": "markdown",
   "id": "f11699a8",
   "metadata": {},
   "source": [
    "#### if u give dictionary as input to series,then the keys will acts as indexes in the result. \n",
    "#### whenever there is mixed datatype, then we will get the result of dtype as Object."
   ]
  },
  {
   "cell_type": "code",
   "execution_count": 20,
   "id": "63e154f9",
   "metadata": {},
   "outputs": [
    {
     "name": "stdout",
     "output_type": "stream",
     "text": [
      "0    12\n",
      "dtype: int64\n"
     ]
    }
   ],
   "source": [
    "s=pd.Series(12)\n",
    "print(s)"
   ]
  },
  {
   "cell_type": "code",
   "execution_count": 27,
   "id": "7ef231d2",
   "metadata": {},
   "outputs": [
    {
     "name": "stdout",
     "output_type": "stream",
     "text": [
      "1     12\n",
      "2     12\n",
      "3     12\n",
      "4     12\n",
      "5     12\n",
      "6     12\n",
      "7     12\n",
      "8     12\n",
      "9     12\n",
      "10    12\n",
      "dtype: int64\n"
     ]
    }
   ],
   "source": [
    "# suppose we want the same data 12 for many indexes, then we can use index paramter here.\n",
    "s=pd.Series(12,index=[1,2,3,4,5,6,7,8,9,10])\n",
    "print(s)"
   ]
  },
  {
   "cell_type": "code",
   "execution_count": 28,
   "id": "51e5b885",
   "metadata": {},
   "outputs": [
    {
     "data": {
      "text/plain": [
       "1     12\n",
       "2     12\n",
       "3     12\n",
       "4     12\n",
       "5     12\n",
       "6     12\n",
       "7     12\n",
       "8     12\n",
       "9     12\n",
       "10    12\n",
       "dtype: int64"
      ]
     },
     "execution_count": 28,
     "metadata": {},
     "output_type": "execute_result"
    }
   ],
   "source": [
    "s"
   ]
  },
  {
   "cell_type": "code",
   "execution_count": 22,
   "id": "2bb70a29",
   "metadata": {},
   "outputs": [
    {
     "name": "stdout",
     "output_type": "stream",
     "text": [
      "1     12\n",
      "2     12\n",
      "3     12\n",
      "4     12\n",
      "5     12\n",
      "6     12\n",
      "7     12\n",
      "8     12\n",
      "9     12\n",
      "10    12\n",
      "dtype: int64\n",
      "1    12\n",
      "2    12\n",
      "3    12\n",
      "4    12\n",
      "5    12\n",
      "6    12\n",
      "dtype: int64\n"
     ]
    }
   ],
   "source": [
    "s1=pd.Series(12,index=[1,2,3,4,5,6,7,8,9,10])\n",
    "print(s1)\n",
    "s2=pd.Series(12,index=[1,2,3,4,5,6])\n",
    "print(s2)"
   ]
  },
  {
   "cell_type": "raw",
   "id": "7a14d7e1",
   "metadata": {},
   "source": [
    "# here we have the missing data.\n",
    "# suppose when we want to perform any mathematical operations on the missing data and if any data is missing,then we will get the result as NaN\n",
    "# if we perform in numpy ,we will get any broadcasting error (if dimensions are not same) and we get the result if broadcasting is done."
   ]
  },
  {
   "cell_type": "code",
   "execution_count": 24,
   "id": "b62abb0f",
   "metadata": {},
   "outputs": [
    {
     "data": {
      "text/plain": [
       "1     24.0\n",
       "2     24.0\n",
       "3     24.0\n",
       "4     24.0\n",
       "5     24.0\n",
       "6     24.0\n",
       "7      NaN\n",
       "8      NaN\n",
       "9      NaN\n",
       "10     NaN\n",
       "dtype: float64"
      ]
     },
     "execution_count": 24,
     "metadata": {},
     "output_type": "execute_result"
    }
   ],
   "source": [
    "s1+s2"
   ]
  },
  {
   "cell_type": "code",
   "execution_count": 25,
   "id": "b0ae9728",
   "metadata": {},
   "outputs": [
    {
     "data": {
      "text/plain": [
       "1     0.0\n",
       "2     0.0\n",
       "3     0.0\n",
       "4     0.0\n",
       "5     0.0\n",
       "6     0.0\n",
       "7     NaN\n",
       "8     NaN\n",
       "9     NaN\n",
       "10    NaN\n",
       "dtype: float64"
      ]
     },
     "execution_count": 25,
     "metadata": {},
     "output_type": "execute_result"
    }
   ],
   "source": [
    "s1-s2"
   ]
  },
  {
   "cell_type": "markdown",
   "id": "e37d2d91",
   "metadata": {},
   "source": [
    "# lec 3\n",
    "## Basics of DataFrames in Pandas"
   ]
  },
  {
   "cell_type": "code",
   "execution_count": 36,
   "id": "55d3b36c",
   "metadata": {},
   "outputs": [
    {
     "name": "stdout",
     "output_type": "stream",
     "text": [
      "   0\n",
      "0  1\n",
      "1  2\n",
      "2  3\n",
      "3  5\n",
      "4  4\n",
      "5  3\n",
      "6  2\n",
      "7  1\n",
      "<class 'pandas.core.frame.DataFrame'>\n"
     ]
    }
   ],
   "source": [
    "import pandas as pd\n",
    "d1=pd.DataFrame([1,2,3,5,4,3,2,1]) # along the single column, it will shows the data.\n",
    "print(d1) # it will results as a table type.\n",
    "print(type(d1))"
   ]
  },
  {
   "cell_type": "code",
   "execution_count": 37,
   "id": "49220f3e",
   "metadata": {},
   "outputs": [
    {
     "data": {
      "text/html": [
       "<div>\n",
       "<style scoped>\n",
       "    .dataframe tbody tr th:only-of-type {\n",
       "        vertical-align: middle;\n",
       "    }\n",
       "\n",
       "    .dataframe tbody tr th {\n",
       "        vertical-align: top;\n",
       "    }\n",
       "\n",
       "    .dataframe thead th {\n",
       "        text-align: right;\n",
       "    }\n",
       "</style>\n",
       "<table border=\"1\" class=\"dataframe\">\n",
       "  <thead>\n",
       "    <tr style=\"text-align: right;\">\n",
       "      <th></th>\n",
       "      <th>0</th>\n",
       "    </tr>\n",
       "  </thead>\n",
       "  <tbody>\n",
       "    <tr>\n",
       "      <th>0</th>\n",
       "      <td>1</td>\n",
       "    </tr>\n",
       "    <tr>\n",
       "      <th>1</th>\n",
       "      <td>2</td>\n",
       "    </tr>\n",
       "    <tr>\n",
       "      <th>2</th>\n",
       "      <td>3</td>\n",
       "    </tr>\n",
       "    <tr>\n",
       "      <th>3</th>\n",
       "      <td>5</td>\n",
       "    </tr>\n",
       "    <tr>\n",
       "      <th>4</th>\n",
       "      <td>4</td>\n",
       "    </tr>\n",
       "    <tr>\n",
       "      <th>5</th>\n",
       "      <td>3</td>\n",
       "    </tr>\n",
       "    <tr>\n",
       "      <th>6</th>\n",
       "      <td>2</td>\n",
       "    </tr>\n",
       "    <tr>\n",
       "      <th>7</th>\n",
       "      <td>1</td>\n",
       "    </tr>\n",
       "  </tbody>\n",
       "</table>\n",
       "</div>"
      ],
      "text/plain": [
       "   0\n",
       "0  1\n",
       "1  2\n",
       "2  3\n",
       "3  5\n",
       "4  4\n",
       "5  3\n",
       "6  2\n",
       "7  1"
      ]
     },
     "execution_count": 37,
     "metadata": {},
     "output_type": "execute_result"
    }
   ],
   "source": [
    "d1"
   ]
  },
  {
   "cell_type": "code",
   "execution_count": 56,
   "id": "0551d5b2",
   "metadata": {},
   "outputs": [
    {
     "name": "stdout",
     "output_type": "stream",
     "text": [
      "    0   1    2   3   4   5   6    7\n",
      "0   1   2    3   5   4   3   2    1\n",
      "1  11  23  234  55  74  73  22   91\n",
      "2  18  27   33  55  43  36  28  121\n"
     ]
    }
   ],
   "source": [
    "import pandas as pd\n",
    "# to pass mutiple lists,pass them as list of lists.\n",
    "d2=pd.DataFrame([[1,2,3,5,4,3,2,1],[11,23,234,55,74,73,22,91],[18,27,33,55,43,36,28,121]]) #here it is 2D array we used.\n",
    "print(d2)"
   ]
  },
  {
   "cell_type": "code",
   "execution_count": 57,
   "id": "7a270acc",
   "metadata": {},
   "outputs": [
    {
     "name": "stdout",
     "output_type": "stream",
     "text": [
      "    0   1    2   3   4   5   6   7\n",
      "0   1   2    3   5   4   3   2   1\n",
      "1  11  23  234  55  74  73  22  91\n"
     ]
    }
   ],
   "source": [
    "d2=pd.DataFrame([[1,2,3,5,4,3,2,1],[11,23,234,55,74,73,22,91]])\n",
    "print(d2)"
   ]
  },
  {
   "cell_type": "code",
   "execution_count": 72,
   "id": "7022c000",
   "metadata": {},
   "outputs": [
    {
     "name": "stdout",
     "output_type": "stream",
     "text": [
      "   a   b\n",
      "0  1   6\n",
      "1  2   7\n",
      "2  3   8\n",
      "3  4   9\n",
      "4  5  10\n"
     ]
    }
   ],
   "source": [
    "# if u want to pass the list as in column wise, then we need to convert lists to series and then combine them in dictionary .\n",
    "l1=[1,2,3,4,5]\n",
    "l2=[6,7,8,9,10]\n",
    "data={\"a\":pd.Series(l1),\"b\":pd.Series(l2)}\n",
    "d5=pd.DataFrame(data)\n",
    "print(d5)"
   ]
  },
  {
   "cell_type": "code",
   "execution_count": 58,
   "id": "da26d18c",
   "metadata": {},
   "outputs": [
    {
     "ename": "ValueError",
     "evalue": "All arrays must be of the same length",
     "output_type": "error",
     "traceback": [
      "\u001b[1;31m---------------------------------------------------------------------------\u001b[0m",
      "\u001b[1;31mValueError\u001b[0m                                Traceback (most recent call last)",
      "\u001b[1;32m~\\AppData\\Local\\Temp\\ipykernel_16072\\2814909828.py\u001b[0m in \u001b[0;36m<module>\u001b[1;34m\u001b[0m\n\u001b[0;32m      2\u001b[0m \u001b[1;31m# keys are acting as columns here.\u001b[0m\u001b[1;33m\u001b[0m\u001b[1;33m\u001b[0m\u001b[0m\n\u001b[0;32m      3\u001b[0m \u001b[0mdict1\u001b[0m\u001b[1;33m=\u001b[0m\u001b[1;33m{\u001b[0m\u001b[1;34m\"Names\"\u001b[0m\u001b[1;33m:\u001b[0m\u001b[1;33m[\u001b[0m\u001b[1;34m\"Phani\"\u001b[0m\u001b[1;33m,\u001b[0m\u001b[1;34m\"Indra\"\u001b[0m\u001b[1;33m,\u001b[0m\u001b[1;34m\"Lucky\"\u001b[0m\u001b[1;33m,\u001b[0m\u001b[1;34m\"Spoorti\"\u001b[0m\u001b[1;33m,\u001b[0m\u001b[1;34m\"Akshu\"\u001b[0m\u001b[1;33m]\u001b[0m\u001b[1;33m,\u001b[0m\u001b[1;34m\"Marks\"\u001b[0m\u001b[1;33m:\u001b[0m\u001b[1;33m[\u001b[0m\u001b[1;36m90\u001b[0m\u001b[1;33m,\u001b[0m\u001b[1;36m97\u001b[0m\u001b[1;33m,\u001b[0m\u001b[1;36m93\u001b[0m\u001b[1;33m,\u001b[0m\u001b[1;36m95\u001b[0m\u001b[1;33m]\u001b[0m\u001b[1;33m}\u001b[0m\u001b[1;33m\u001b[0m\u001b[1;33m\u001b[0m\u001b[0m\n\u001b[1;32m----> 4\u001b[1;33m \u001b[0md3\u001b[0m\u001b[1;33m=\u001b[0m\u001b[0mpd\u001b[0m\u001b[1;33m.\u001b[0m\u001b[0mDataFrame\u001b[0m\u001b[1;33m(\u001b[0m\u001b[0mdict1\u001b[0m\u001b[1;33m)\u001b[0m\u001b[1;33m\u001b[0m\u001b[1;33m\u001b[0m\u001b[0m\n\u001b[0m\u001b[0;32m      5\u001b[0m  \u001b[1;31m# ValueError: All arrays must be of the same length\u001b[0m\u001b[1;33m\u001b[0m\u001b[1;33m\u001b[0m\u001b[0m\n",
      "\u001b[1;32m~\\anaconda3\\lib\\site-packages\\pandas\\core\\frame.py\u001b[0m in \u001b[0;36m__init__\u001b[1;34m(self, data, index, columns, dtype, copy)\u001b[0m\n\u001b[0;32m    634\u001b[0m         \u001b[1;32melif\u001b[0m \u001b[0misinstance\u001b[0m\u001b[1;33m(\u001b[0m\u001b[0mdata\u001b[0m\u001b[1;33m,\u001b[0m \u001b[0mdict\u001b[0m\u001b[1;33m)\u001b[0m\u001b[1;33m:\u001b[0m\u001b[1;33m\u001b[0m\u001b[1;33m\u001b[0m\u001b[0m\n\u001b[0;32m    635\u001b[0m             \u001b[1;31m# GH#38939 de facto copy defaults to False only in non-dict cases\u001b[0m\u001b[1;33m\u001b[0m\u001b[1;33m\u001b[0m\u001b[0m\n\u001b[1;32m--> 636\u001b[1;33m             \u001b[0mmgr\u001b[0m \u001b[1;33m=\u001b[0m \u001b[0mdict_to_mgr\u001b[0m\u001b[1;33m(\u001b[0m\u001b[0mdata\u001b[0m\u001b[1;33m,\u001b[0m \u001b[0mindex\u001b[0m\u001b[1;33m,\u001b[0m \u001b[0mcolumns\u001b[0m\u001b[1;33m,\u001b[0m \u001b[0mdtype\u001b[0m\u001b[1;33m=\u001b[0m\u001b[0mdtype\u001b[0m\u001b[1;33m,\u001b[0m \u001b[0mcopy\u001b[0m\u001b[1;33m=\u001b[0m\u001b[0mcopy\u001b[0m\u001b[1;33m,\u001b[0m \u001b[0mtyp\u001b[0m\u001b[1;33m=\u001b[0m\u001b[0mmanager\u001b[0m\u001b[1;33m)\u001b[0m\u001b[1;33m\u001b[0m\u001b[1;33m\u001b[0m\u001b[0m\n\u001b[0m\u001b[0;32m    637\u001b[0m         \u001b[1;32melif\u001b[0m \u001b[0misinstance\u001b[0m\u001b[1;33m(\u001b[0m\u001b[0mdata\u001b[0m\u001b[1;33m,\u001b[0m \u001b[0mma\u001b[0m\u001b[1;33m.\u001b[0m\u001b[0mMaskedArray\u001b[0m\u001b[1;33m)\u001b[0m\u001b[1;33m:\u001b[0m\u001b[1;33m\u001b[0m\u001b[1;33m\u001b[0m\u001b[0m\n\u001b[0;32m    638\u001b[0m             \u001b[1;32mimport\u001b[0m \u001b[0mnumpy\u001b[0m\u001b[1;33m.\u001b[0m\u001b[0mma\u001b[0m\u001b[1;33m.\u001b[0m\u001b[0mmrecords\u001b[0m \u001b[1;32mas\u001b[0m \u001b[0mmrecords\u001b[0m\u001b[1;33m\u001b[0m\u001b[1;33m\u001b[0m\u001b[0m\n",
      "\u001b[1;32m~\\anaconda3\\lib\\site-packages\\pandas\\core\\internals\\construction.py\u001b[0m in \u001b[0;36mdict_to_mgr\u001b[1;34m(data, index, columns, dtype, typ, copy)\u001b[0m\n\u001b[0;32m    500\u001b[0m         \u001b[1;31m# TODO: can we get rid of the dt64tz special case above?\u001b[0m\u001b[1;33m\u001b[0m\u001b[1;33m\u001b[0m\u001b[0m\n\u001b[0;32m    501\u001b[0m \u001b[1;33m\u001b[0m\u001b[0m\n\u001b[1;32m--> 502\u001b[1;33m     \u001b[1;32mreturn\u001b[0m \u001b[0marrays_to_mgr\u001b[0m\u001b[1;33m(\u001b[0m\u001b[0marrays\u001b[0m\u001b[1;33m,\u001b[0m \u001b[0mcolumns\u001b[0m\u001b[1;33m,\u001b[0m \u001b[0mindex\u001b[0m\u001b[1;33m,\u001b[0m \u001b[0mdtype\u001b[0m\u001b[1;33m=\u001b[0m\u001b[0mdtype\u001b[0m\u001b[1;33m,\u001b[0m \u001b[0mtyp\u001b[0m\u001b[1;33m=\u001b[0m\u001b[0mtyp\u001b[0m\u001b[1;33m,\u001b[0m \u001b[0mconsolidate\u001b[0m\u001b[1;33m=\u001b[0m\u001b[0mcopy\u001b[0m\u001b[1;33m)\u001b[0m\u001b[1;33m\u001b[0m\u001b[1;33m\u001b[0m\u001b[0m\n\u001b[0m\u001b[0;32m    503\u001b[0m \u001b[1;33m\u001b[0m\u001b[0m\n\u001b[0;32m    504\u001b[0m \u001b[1;33m\u001b[0m\u001b[0m\n",
      "\u001b[1;32m~\\anaconda3\\lib\\site-packages\\pandas\\core\\internals\\construction.py\u001b[0m in \u001b[0;36marrays_to_mgr\u001b[1;34m(arrays, columns, index, dtype, verify_integrity, typ, consolidate)\u001b[0m\n\u001b[0;32m    118\u001b[0m         \u001b[1;31m# figure out the index, if necessary\u001b[0m\u001b[1;33m\u001b[0m\u001b[1;33m\u001b[0m\u001b[0m\n\u001b[0;32m    119\u001b[0m         \u001b[1;32mif\u001b[0m \u001b[0mindex\u001b[0m \u001b[1;32mis\u001b[0m \u001b[1;32mNone\u001b[0m\u001b[1;33m:\u001b[0m\u001b[1;33m\u001b[0m\u001b[1;33m\u001b[0m\u001b[0m\n\u001b[1;32m--> 120\u001b[1;33m             \u001b[0mindex\u001b[0m \u001b[1;33m=\u001b[0m \u001b[0m_extract_index\u001b[0m\u001b[1;33m(\u001b[0m\u001b[0marrays\u001b[0m\u001b[1;33m)\u001b[0m\u001b[1;33m\u001b[0m\u001b[1;33m\u001b[0m\u001b[0m\n\u001b[0m\u001b[0;32m    121\u001b[0m         \u001b[1;32melse\u001b[0m\u001b[1;33m:\u001b[0m\u001b[1;33m\u001b[0m\u001b[1;33m\u001b[0m\u001b[0m\n\u001b[0;32m    122\u001b[0m             \u001b[0mindex\u001b[0m \u001b[1;33m=\u001b[0m \u001b[0mensure_index\u001b[0m\u001b[1;33m(\u001b[0m\u001b[0mindex\u001b[0m\u001b[1;33m)\u001b[0m\u001b[1;33m\u001b[0m\u001b[1;33m\u001b[0m\u001b[0m\n",
      "\u001b[1;32m~\\anaconda3\\lib\\site-packages\\pandas\\core\\internals\\construction.py\u001b[0m in \u001b[0;36m_extract_index\u001b[1;34m(data)\u001b[0m\n\u001b[0;32m    672\u001b[0m             \u001b[0mlengths\u001b[0m \u001b[1;33m=\u001b[0m \u001b[0mlist\u001b[0m\u001b[1;33m(\u001b[0m\u001b[0mset\u001b[0m\u001b[1;33m(\u001b[0m\u001b[0mraw_lengths\u001b[0m\u001b[1;33m)\u001b[0m\u001b[1;33m)\u001b[0m\u001b[1;33m\u001b[0m\u001b[1;33m\u001b[0m\u001b[0m\n\u001b[0;32m    673\u001b[0m             \u001b[1;32mif\u001b[0m \u001b[0mlen\u001b[0m\u001b[1;33m(\u001b[0m\u001b[0mlengths\u001b[0m\u001b[1;33m)\u001b[0m \u001b[1;33m>\u001b[0m \u001b[1;36m1\u001b[0m\u001b[1;33m:\u001b[0m\u001b[1;33m\u001b[0m\u001b[1;33m\u001b[0m\u001b[0m\n\u001b[1;32m--> 674\u001b[1;33m                 \u001b[1;32mraise\u001b[0m \u001b[0mValueError\u001b[0m\u001b[1;33m(\u001b[0m\u001b[1;34m\"All arrays must be of the same length\"\u001b[0m\u001b[1;33m)\u001b[0m\u001b[1;33m\u001b[0m\u001b[1;33m\u001b[0m\u001b[0m\n\u001b[0m\u001b[0;32m    675\u001b[0m \u001b[1;33m\u001b[0m\u001b[0m\n\u001b[0;32m    676\u001b[0m             \u001b[1;32mif\u001b[0m \u001b[0mhave_dicts\u001b[0m\u001b[1;33m:\u001b[0m\u001b[1;33m\u001b[0m\u001b[1;33m\u001b[0m\u001b[0m\n",
      "\u001b[1;31mValueError\u001b[0m: All arrays must be of the same length"
     ]
    }
   ],
   "source": [
    "### passing dictionary to a dataframe\n",
    "# keys are acting as columns here.\n",
    "dict1={\"Names\":[\"Phani\",\"Indra\",\"Lucky\",\"Spoorti\",\"Akshu\"],\"Marks\":[90,97,93,95]}\n",
    "d3=pd.DataFrame(dict1)\n",
    " # ValueError: All arrays must be of the same length"
   ]
  },
  {
   "cell_type": "code",
   "execution_count": 59,
   "id": "2fc46e37",
   "metadata": {},
   "outputs": [
    {
     "name": "stdout",
     "output_type": "stream",
     "text": [
      "     Names  Marks\n",
      "0    Phani     90\n",
      "1    Indra     97\n",
      "2    Lucky     93\n",
      "3  Spoorti     95\n",
      "4    Akshu     87\n"
     ]
    }
   ],
   "source": [
    "dict1={\"Names\":[\"Phani\",\"Indra\",\"Lucky\",\"Spoorti\",\"Akshu\"],\"Marks\":[90,97,93,95,87]}\n",
    "d3=pd.DataFrame(dict1)\n",
    "print(d3)"
   ]
  },
  {
   "cell_type": "code",
   "execution_count": 61,
   "id": "52882eca",
   "metadata": {},
   "outputs": [
    {
     "name": "stdout",
     "output_type": "stream",
     "text": [
      "     Names\n",
      "0    Phani\n",
      "1    Indra\n",
      "2    Lucky\n",
      "3  Spoorti\n",
      "4    Akshu\n"
     ]
    }
   ],
   "source": [
    "# when u want only names column in the result, we can use columns argument here.\n",
    "dict1={\"Names\":[\"Phani\",\"Indra\",\"Lucky\",\"Spoorti\",\"Akshu\"],\"Marks\":[90,97,93,95,87]}\n",
    "d3=pd.DataFrame(dict1,columns=[\"Names\"])\n",
    "print(d3)"
   ]
  },
  {
   "cell_type": "code",
   "execution_count": 63,
   "id": "93282f04",
   "metadata": {},
   "outputs": [
    {
     "name": "stdout",
     "output_type": "stream",
     "text": [
      "     Names  Marks\n",
      "0    Phani     90\n",
      "1    Indra     97\n",
      "2    Lucky     93\n",
      "3  Spoorti     95\n",
      "4    Akshu     87\n"
     ]
    }
   ],
   "source": [
    "dict1={\"Names\":[\"Phani\",\"Indra\",\"Lucky\",\"Spoorti\",\"Akshu\"],\"Marks\":[90,97,93,95,87]}\n",
    "d3=pd.DataFrame(dict1,columns=[\"Names\",\"Marks\"]) # to get both rows and columns .\n",
    "print(d3)"
   ]
  },
  {
   "cell_type": "code",
   "execution_count": 64,
   "id": "4165e19d",
   "metadata": {},
   "outputs": [
    {
     "name": "stdout",
     "output_type": "stream",
     "text": [
      "     Names  Marks\n",
      "1    Phani     90\n",
      "2    Indra     97\n",
      "3    Lucky     93\n",
      "4  Spoorti     95\n",
      "5    Akshu     87\n"
     ]
    }
   ],
   "source": [
    "# we can also give the indexes here if we don't want to start from zero.\n",
    "dict1={\"Names\":[\"Phani\",\"Indra\",\"Lucky\",\"Spoorti\",\"Akshu\"],\"Marks\":[90,97,93,95,87]}\n",
    "d3=pd.DataFrame(dict1,columns=[\"Names\",\"Marks\"],index=[1,2,3,4,5]) # to get both rows and columns .\n",
    "print(d3)"
   ]
  },
  {
   "cell_type": "code",
   "execution_count": 69,
   "id": "d0119ed9",
   "metadata": {},
   "outputs": [
    {
     "data": {
      "text/plain": [
       "'Lucky'"
      ]
     },
     "execution_count": 69,
     "metadata": {},
     "output_type": "execute_result"
    }
   ],
   "source": [
    "d3['Names'][3]"
   ]
  },
  {
   "cell_type": "code",
   "execution_count": 70,
   "id": "42c424d7",
   "metadata": {},
   "outputs": [
    {
     "data": {
      "text/plain": [
       "1      Phani\n",
       "2      Indra\n",
       "3      Lucky\n",
       "4    Spoorti\n",
       "5      Akshu\n",
       "Name: Names, dtype: object"
      ]
     },
     "execution_count": 70,
     "metadata": {},
     "output_type": "execute_result"
    }
   ],
   "source": [
    "d3['Names']"
   ]
  },
  {
   "cell_type": "markdown",
   "id": "2f0f0ba4",
   "metadata": {},
   "source": [
    "# lec 4\n",
    "## What are Arithmetic operations in Python Pandas"
   ]
  },
  {
   "cell_type": "code",
   "execution_count": 73,
   "id": "22103cd8",
   "metadata": {},
   "outputs": [
    {
     "data": {
      "text/html": [
       "<div>\n",
       "<style scoped>\n",
       "    .dataframe tbody tr th:only-of-type {\n",
       "        vertical-align: middle;\n",
       "    }\n",
       "\n",
       "    .dataframe tbody tr th {\n",
       "        vertical-align: top;\n",
       "    }\n",
       "\n",
       "    .dataframe thead th {\n",
       "        text-align: right;\n",
       "    }\n",
       "</style>\n",
       "<table border=\"1\" class=\"dataframe\">\n",
       "  <thead>\n",
       "    <tr style=\"text-align: right;\">\n",
       "      <th></th>\n",
       "      <th>a</th>\n",
       "      <th>b</th>\n",
       "    </tr>\n",
       "  </thead>\n",
       "  <tbody>\n",
       "    <tr>\n",
       "      <th>0</th>\n",
       "      <td>1</td>\n",
       "      <td>6</td>\n",
       "    </tr>\n",
       "    <tr>\n",
       "      <th>1</th>\n",
       "      <td>2</td>\n",
       "      <td>7</td>\n",
       "    </tr>\n",
       "    <tr>\n",
       "      <th>2</th>\n",
       "      <td>3</td>\n",
       "      <td>8</td>\n",
       "    </tr>\n",
       "    <tr>\n",
       "      <th>3</th>\n",
       "      <td>4</td>\n",
       "      <td>9</td>\n",
       "    </tr>\n",
       "    <tr>\n",
       "      <th>4</th>\n",
       "      <td>5</td>\n",
       "      <td>10</td>\n",
       "    </tr>\n",
       "  </tbody>\n",
       "</table>\n",
       "</div>"
      ],
      "text/plain": [
       "   a   b\n",
       "0  1   6\n",
       "1  2   7\n",
       "2  3   8\n",
       "3  4   9\n",
       "4  5  10"
      ]
     },
     "execution_count": 73,
     "metadata": {},
     "output_type": "execute_result"
    }
   ],
   "source": [
    "d5"
   ]
  },
  {
   "cell_type": "code",
   "execution_count": 75,
   "id": "69561307",
   "metadata": {},
   "outputs": [],
   "source": [
    "# to add columns just give their names and assign with new name with name of dataframe\n",
    "d5['a+b']=d5['a']+d5['b']"
   ]
  },
  {
   "cell_type": "code",
   "execution_count": 76,
   "id": "cc406337",
   "metadata": {},
   "outputs": [
    {
     "name": "stdout",
     "output_type": "stream",
     "text": [
      "   a   b  a+b\n",
      "0  1   6    7\n",
      "1  2   7    9\n",
      "2  3   8   11\n",
      "3  4   9   13\n",
      "4  5  10   15\n"
     ]
    }
   ],
   "source": [
    "print(d5)"
   ]
  },
  {
   "cell_type": "code",
   "execution_count": 80,
   "id": "0af09ca1",
   "metadata": {},
   "outputs": [],
   "source": [
    "d5['a-b']=d5['a']-d5['b']\n",
    "d5['a*b']=d5['a']*d5['b']\n",
    "d5['a/b']=d5['a']/d5['b']\n",
    "d5['a**b']=d5['a']**d5['b']\n",
    "d5['a%b']=d5['a']%d5['b']"
   ]
  },
  {
   "cell_type": "code",
   "execution_count": 81,
   "id": "9f95b8f3",
   "metadata": {},
   "outputs": [
    {
     "data": {
      "text/html": [
       "<div>\n",
       "<style scoped>\n",
       "    .dataframe tbody tr th:only-of-type {\n",
       "        vertical-align: middle;\n",
       "    }\n",
       "\n",
       "    .dataframe tbody tr th {\n",
       "        vertical-align: top;\n",
       "    }\n",
       "\n",
       "    .dataframe thead th {\n",
       "        text-align: right;\n",
       "    }\n",
       "</style>\n",
       "<table border=\"1\" class=\"dataframe\">\n",
       "  <thead>\n",
       "    <tr style=\"text-align: right;\">\n",
       "      <th></th>\n",
       "      <th>a</th>\n",
       "      <th>b</th>\n",
       "      <th>a+b</th>\n",
       "      <th>a-b</th>\n",
       "      <th>a*b</th>\n",
       "      <th>a/b</th>\n",
       "      <th>a**b</th>\n",
       "      <th>a%b</th>\n",
       "    </tr>\n",
       "  </thead>\n",
       "  <tbody>\n",
       "    <tr>\n",
       "      <th>0</th>\n",
       "      <td>1</td>\n",
       "      <td>6</td>\n",
       "      <td>7</td>\n",
       "      <td>-5</td>\n",
       "      <td>6</td>\n",
       "      <td>0.166667</td>\n",
       "      <td>1</td>\n",
       "      <td>1</td>\n",
       "    </tr>\n",
       "    <tr>\n",
       "      <th>1</th>\n",
       "      <td>2</td>\n",
       "      <td>7</td>\n",
       "      <td>9</td>\n",
       "      <td>-5</td>\n",
       "      <td>14</td>\n",
       "      <td>0.285714</td>\n",
       "      <td>128</td>\n",
       "      <td>2</td>\n",
       "    </tr>\n",
       "    <tr>\n",
       "      <th>2</th>\n",
       "      <td>3</td>\n",
       "      <td>8</td>\n",
       "      <td>11</td>\n",
       "      <td>-5</td>\n",
       "      <td>24</td>\n",
       "      <td>0.375000</td>\n",
       "      <td>6561</td>\n",
       "      <td>3</td>\n",
       "    </tr>\n",
       "    <tr>\n",
       "      <th>3</th>\n",
       "      <td>4</td>\n",
       "      <td>9</td>\n",
       "      <td>13</td>\n",
       "      <td>-5</td>\n",
       "      <td>36</td>\n",
       "      <td>0.444444</td>\n",
       "      <td>262144</td>\n",
       "      <td>4</td>\n",
       "    </tr>\n",
       "    <tr>\n",
       "      <th>4</th>\n",
       "      <td>5</td>\n",
       "      <td>10</td>\n",
       "      <td>15</td>\n",
       "      <td>-5</td>\n",
       "      <td>50</td>\n",
       "      <td>0.500000</td>\n",
       "      <td>9765625</td>\n",
       "      <td>5</td>\n",
       "    </tr>\n",
       "  </tbody>\n",
       "</table>\n",
       "</div>"
      ],
      "text/plain": [
       "   a   b  a+b  a-b  a*b       a/b     a**b  a%b\n",
       "0  1   6    7   -5    6  0.166667        1    1\n",
       "1  2   7    9   -5   14  0.285714      128    2\n",
       "2  3   8   11   -5   24  0.375000     6561    3\n",
       "3  4   9   13   -5   36  0.444444   262144    4\n",
       "4  5  10   15   -5   50  0.500000  9765625    5"
      ]
     },
     "execution_count": 81,
     "metadata": {},
     "output_type": "execute_result"
    }
   ],
   "source": [
    "d5"
   ]
  },
  {
   "cell_type": "code",
   "execution_count": 82,
   "id": "f3f23ddd",
   "metadata": {},
   "outputs": [],
   "source": [
    "# we will create a new column and check some condition\n",
    "d5['a<4']=d5['a']<4"
   ]
  },
  {
   "cell_type": "code",
   "execution_count": 83,
   "id": "0a5b04e3",
   "metadata": {},
   "outputs": [
    {
     "name": "stdout",
     "output_type": "stream",
     "text": [
      "   a   b  a+b  a-b  a*b       a/b     a**b  a%b    a<4\n",
      "0  1   6    7   -5    6  0.166667        1    1   True\n",
      "1  2   7    9   -5   14  0.285714      128    2   True\n",
      "2  3   8   11   -5   24  0.375000     6561    3   True\n",
      "3  4   9   13   -5   36  0.444444   262144    4  False\n",
      "4  5  10   15   -5   50  0.500000  9765625    5  False\n"
     ]
    }
   ],
   "source": [
    "print(d5)"
   ]
  },
  {
   "cell_type": "markdown",
   "id": "a7f19b14",
   "metadata": {},
   "source": [
    "# lec 5\n",
    "## How to delete and insert Data in Pandas "
   ]
  },
  {
   "cell_type": "code",
   "execution_count": 84,
   "id": "daff850d",
   "metadata": {},
   "outputs": [
    {
     "data": {
      "text/html": [
       "<div>\n",
       "<style scoped>\n",
       "    .dataframe tbody tr th:only-of-type {\n",
       "        vertical-align: middle;\n",
       "    }\n",
       "\n",
       "    .dataframe tbody tr th {\n",
       "        vertical-align: top;\n",
       "    }\n",
       "\n",
       "    .dataframe thead th {\n",
       "        text-align: right;\n",
       "    }\n",
       "</style>\n",
       "<table border=\"1\" class=\"dataframe\">\n",
       "  <thead>\n",
       "    <tr style=\"text-align: right;\">\n",
       "      <th></th>\n",
       "      <th>a</th>\n",
       "      <th>b</th>\n",
       "      <th>a+b</th>\n",
       "      <th>a-b</th>\n",
       "      <th>a*b</th>\n",
       "      <th>a/b</th>\n",
       "      <th>a**b</th>\n",
       "      <th>a%b</th>\n",
       "      <th>a&lt;4</th>\n",
       "    </tr>\n",
       "  </thead>\n",
       "  <tbody>\n",
       "    <tr>\n",
       "      <th>0</th>\n",
       "      <td>1</td>\n",
       "      <td>6</td>\n",
       "      <td>7</td>\n",
       "      <td>-5</td>\n",
       "      <td>6</td>\n",
       "      <td>0.166667</td>\n",
       "      <td>1</td>\n",
       "      <td>1</td>\n",
       "      <td>True</td>\n",
       "    </tr>\n",
       "    <tr>\n",
       "      <th>1</th>\n",
       "      <td>2</td>\n",
       "      <td>7</td>\n",
       "      <td>9</td>\n",
       "      <td>-5</td>\n",
       "      <td>14</td>\n",
       "      <td>0.285714</td>\n",
       "      <td>128</td>\n",
       "      <td>2</td>\n",
       "      <td>True</td>\n",
       "    </tr>\n",
       "    <tr>\n",
       "      <th>2</th>\n",
       "      <td>3</td>\n",
       "      <td>8</td>\n",
       "      <td>11</td>\n",
       "      <td>-5</td>\n",
       "      <td>24</td>\n",
       "      <td>0.375000</td>\n",
       "      <td>6561</td>\n",
       "      <td>3</td>\n",
       "      <td>True</td>\n",
       "    </tr>\n",
       "    <tr>\n",
       "      <th>3</th>\n",
       "      <td>4</td>\n",
       "      <td>9</td>\n",
       "      <td>13</td>\n",
       "      <td>-5</td>\n",
       "      <td>36</td>\n",
       "      <td>0.444444</td>\n",
       "      <td>262144</td>\n",
       "      <td>4</td>\n",
       "      <td>False</td>\n",
       "    </tr>\n",
       "    <tr>\n",
       "      <th>4</th>\n",
       "      <td>5</td>\n",
       "      <td>10</td>\n",
       "      <td>15</td>\n",
       "      <td>-5</td>\n",
       "      <td>50</td>\n",
       "      <td>0.500000</td>\n",
       "      <td>9765625</td>\n",
       "      <td>5</td>\n",
       "      <td>False</td>\n",
       "    </tr>\n",
       "  </tbody>\n",
       "</table>\n",
       "</div>"
      ],
      "text/plain": [
       "   a   b  a+b  a-b  a*b       a/b     a**b  a%b    a<4\n",
       "0  1   6    7   -5    6  0.166667        1    1   True\n",
       "1  2   7    9   -5   14  0.285714      128    2   True\n",
       "2  3   8   11   -5   24  0.375000     6561    3   True\n",
       "3  4   9   13   -5   36  0.444444   262144    4  False\n",
       "4  5  10   15   -5   50  0.500000  9765625    5  False"
      ]
     },
     "execution_count": 84,
     "metadata": {},
     "output_type": "execute_result"
    }
   ],
   "source": [
    "d5"
   ]
  },
  {
   "cell_type": "markdown",
   "id": "f63879c6",
   "metadata": {},
   "source": [
    "# insert"
   ]
  },
  {
   "cell_type": "markdown",
   "id": "abd6285c",
   "metadata": {},
   "source": [
    "1. insert() has 3 parameters. index number position(column wise index),name of the column,data to insert\n",
    "###### for above d5,we can see that  a has index 0 ,b has index 1..."
   ]
  },
  {
   "cell_type": "code",
   "execution_count": 85,
   "id": "a86f17b3",
   "metadata": {},
   "outputs": [],
   "source": [
    "d5.insert(2,'a+2',[3,4,5,6,7]) # see that at index 2 we got the a+2 column."
   ]
  },
  {
   "cell_type": "code",
   "execution_count": 104,
   "id": "412f3c21",
   "metadata": {},
   "outputs": [
    {
     "ename": "ValueError",
     "evalue": "Length of values (7) does not match length of index (5)",
     "output_type": "error",
     "traceback": [
      "\u001b[1;31m---------------------------------------------------------------------------\u001b[0m",
      "\u001b[1;31mValueError\u001b[0m                                Traceback (most recent call last)",
      "\u001b[1;32m~\\AppData\\Local\\Temp\\ipykernel_16072\\2036054000.py\u001b[0m in \u001b[0;36m<module>\u001b[1;34m\u001b[0m\n\u001b[1;32m----> 1\u001b[1;33m \u001b[0md5\u001b[0m\u001b[1;33m.\u001b[0m\u001b[0minsert\u001b[0m\u001b[1;33m(\u001b[0m\u001b[1;36m2\u001b[0m\u001b[1;33m,\u001b[0m\u001b[1;34m'a++'\u001b[0m\u001b[1;33m,\u001b[0m\u001b[1;33m[\u001b[0m\u001b[1;36m3\u001b[0m\u001b[1;33m,\u001b[0m\u001b[1;36m4\u001b[0m\u001b[1;33m,\u001b[0m\u001b[1;36m5\u001b[0m\u001b[1;33m,\u001b[0m\u001b[1;36m6\u001b[0m\u001b[1;33m,\u001b[0m\u001b[1;36m7\u001b[0m\u001b[1;33m,\u001b[0m\u001b[1;36m8\u001b[0m\u001b[1;33m,\u001b[0m\u001b[1;36m9\u001b[0m\u001b[1;33m]\u001b[0m\u001b[1;33m)\u001b[0m\u001b[1;33m\u001b[0m\u001b[1;33m\u001b[0m\u001b[0m\n\u001b[0m",
      "\u001b[1;32m~\\anaconda3\\lib\\site-packages\\pandas\\core\\frame.py\u001b[0m in \u001b[0;36minsert\u001b[1;34m(self, loc, column, value, allow_duplicates)\u001b[0m\n\u001b[0;32m   4445\u001b[0m             \u001b[1;32mraise\u001b[0m \u001b[0mTypeError\u001b[0m\u001b[1;33m(\u001b[0m\u001b[1;34m\"loc must be int\"\u001b[0m\u001b[1;33m)\u001b[0m\u001b[1;33m\u001b[0m\u001b[1;33m\u001b[0m\u001b[0m\n\u001b[0;32m   4446\u001b[0m \u001b[1;33m\u001b[0m\u001b[0m\n\u001b[1;32m-> 4447\u001b[1;33m         \u001b[0mvalue\u001b[0m \u001b[1;33m=\u001b[0m \u001b[0mself\u001b[0m\u001b[1;33m.\u001b[0m\u001b[0m_sanitize_column\u001b[0m\u001b[1;33m(\u001b[0m\u001b[0mvalue\u001b[0m\u001b[1;33m)\u001b[0m\u001b[1;33m\u001b[0m\u001b[1;33m\u001b[0m\u001b[0m\n\u001b[0m\u001b[0;32m   4448\u001b[0m         \u001b[0mself\u001b[0m\u001b[1;33m.\u001b[0m\u001b[0m_mgr\u001b[0m\u001b[1;33m.\u001b[0m\u001b[0minsert\u001b[0m\u001b[1;33m(\u001b[0m\u001b[0mloc\u001b[0m\u001b[1;33m,\u001b[0m \u001b[0mcolumn\u001b[0m\u001b[1;33m,\u001b[0m \u001b[0mvalue\u001b[0m\u001b[1;33m)\u001b[0m\u001b[1;33m\u001b[0m\u001b[1;33m\u001b[0m\u001b[0m\n\u001b[0;32m   4449\u001b[0m \u001b[1;33m\u001b[0m\u001b[0m\n",
      "\u001b[1;32m~\\anaconda3\\lib\\site-packages\\pandas\\core\\frame.py\u001b[0m in \u001b[0;36m_sanitize_column\u001b[1;34m(self, value)\u001b[0m\n\u001b[0;32m   4536\u001b[0m \u001b[1;33m\u001b[0m\u001b[0m\n\u001b[0;32m   4537\u001b[0m         \u001b[1;32mif\u001b[0m \u001b[0mis_list_like\u001b[0m\u001b[1;33m(\u001b[0m\u001b[0mvalue\u001b[0m\u001b[1;33m)\u001b[0m\u001b[1;33m:\u001b[0m\u001b[1;33m\u001b[0m\u001b[1;33m\u001b[0m\u001b[0m\n\u001b[1;32m-> 4538\u001b[1;33m             \u001b[0mcom\u001b[0m\u001b[1;33m.\u001b[0m\u001b[0mrequire_length_match\u001b[0m\u001b[1;33m(\u001b[0m\u001b[0mvalue\u001b[0m\u001b[1;33m,\u001b[0m \u001b[0mself\u001b[0m\u001b[1;33m.\u001b[0m\u001b[0mindex\u001b[0m\u001b[1;33m)\u001b[0m\u001b[1;33m\u001b[0m\u001b[1;33m\u001b[0m\u001b[0m\n\u001b[0m\u001b[0;32m   4539\u001b[0m         \u001b[1;32mreturn\u001b[0m \u001b[0msanitize_array\u001b[0m\u001b[1;33m(\u001b[0m\u001b[0mvalue\u001b[0m\u001b[1;33m,\u001b[0m \u001b[0mself\u001b[0m\u001b[1;33m.\u001b[0m\u001b[0mindex\u001b[0m\u001b[1;33m,\u001b[0m \u001b[0mcopy\u001b[0m\u001b[1;33m=\u001b[0m\u001b[1;32mTrue\u001b[0m\u001b[1;33m,\u001b[0m \u001b[0mallow_2d\u001b[0m\u001b[1;33m=\u001b[0m\u001b[1;32mTrue\u001b[0m\u001b[1;33m)\u001b[0m\u001b[1;33m\u001b[0m\u001b[1;33m\u001b[0m\u001b[0m\n\u001b[0;32m   4540\u001b[0m \u001b[1;33m\u001b[0m\u001b[0m\n",
      "\u001b[1;32m~\\anaconda3\\lib\\site-packages\\pandas\\core\\common.py\u001b[0m in \u001b[0;36mrequire_length_match\u001b[1;34m(data, index)\u001b[0m\n\u001b[0;32m    555\u001b[0m     \"\"\"\n\u001b[0;32m    556\u001b[0m     \u001b[1;32mif\u001b[0m \u001b[0mlen\u001b[0m\u001b[1;33m(\u001b[0m\u001b[0mdata\u001b[0m\u001b[1;33m)\u001b[0m \u001b[1;33m!=\u001b[0m \u001b[0mlen\u001b[0m\u001b[1;33m(\u001b[0m\u001b[0mindex\u001b[0m\u001b[1;33m)\u001b[0m\u001b[1;33m:\u001b[0m\u001b[1;33m\u001b[0m\u001b[1;33m\u001b[0m\u001b[0m\n\u001b[1;32m--> 557\u001b[1;33m         raise ValueError(\n\u001b[0m\u001b[0;32m    558\u001b[0m             \u001b[1;34m\"Length of values \"\u001b[0m\u001b[1;33m\u001b[0m\u001b[1;33m\u001b[0m\u001b[0m\n\u001b[0;32m    559\u001b[0m             \u001b[1;34mf\"({len(data)}) \"\u001b[0m\u001b[1;33m\u001b[0m\u001b[1;33m\u001b[0m\u001b[0m\n",
      "\u001b[1;31mValueError\u001b[0m: Length of values (7) does not match length of index (5)"
     ]
    }
   ],
   "source": [
    "d5.insert(2,'a++',[3,4,5,6,7,8,9]) # the lengths should match here."
   ]
  },
  {
   "cell_type": "code",
   "execution_count": 86,
   "id": "c96dba97",
   "metadata": {},
   "outputs": [
    {
     "data": {
      "text/html": [
       "<div>\n",
       "<style scoped>\n",
       "    .dataframe tbody tr th:only-of-type {\n",
       "        vertical-align: middle;\n",
       "    }\n",
       "\n",
       "    .dataframe tbody tr th {\n",
       "        vertical-align: top;\n",
       "    }\n",
       "\n",
       "    .dataframe thead th {\n",
       "        text-align: right;\n",
       "    }\n",
       "</style>\n",
       "<table border=\"1\" class=\"dataframe\">\n",
       "  <thead>\n",
       "    <tr style=\"text-align: right;\">\n",
       "      <th></th>\n",
       "      <th>a</th>\n",
       "      <th>b</th>\n",
       "      <th>a+2</th>\n",
       "      <th>a+b</th>\n",
       "      <th>a-b</th>\n",
       "      <th>a*b</th>\n",
       "      <th>a/b</th>\n",
       "      <th>a**b</th>\n",
       "      <th>a%b</th>\n",
       "      <th>a&lt;4</th>\n",
       "    </tr>\n",
       "  </thead>\n",
       "  <tbody>\n",
       "    <tr>\n",
       "      <th>0</th>\n",
       "      <td>1</td>\n",
       "      <td>6</td>\n",
       "      <td>3</td>\n",
       "      <td>7</td>\n",
       "      <td>-5</td>\n",
       "      <td>6</td>\n",
       "      <td>0.166667</td>\n",
       "      <td>1</td>\n",
       "      <td>1</td>\n",
       "      <td>True</td>\n",
       "    </tr>\n",
       "    <tr>\n",
       "      <th>1</th>\n",
       "      <td>2</td>\n",
       "      <td>7</td>\n",
       "      <td>4</td>\n",
       "      <td>9</td>\n",
       "      <td>-5</td>\n",
       "      <td>14</td>\n",
       "      <td>0.285714</td>\n",
       "      <td>128</td>\n",
       "      <td>2</td>\n",
       "      <td>True</td>\n",
       "    </tr>\n",
       "    <tr>\n",
       "      <th>2</th>\n",
       "      <td>3</td>\n",
       "      <td>8</td>\n",
       "      <td>5</td>\n",
       "      <td>11</td>\n",
       "      <td>-5</td>\n",
       "      <td>24</td>\n",
       "      <td>0.375000</td>\n",
       "      <td>6561</td>\n",
       "      <td>3</td>\n",
       "      <td>True</td>\n",
       "    </tr>\n",
       "    <tr>\n",
       "      <th>3</th>\n",
       "      <td>4</td>\n",
       "      <td>9</td>\n",
       "      <td>6</td>\n",
       "      <td>13</td>\n",
       "      <td>-5</td>\n",
       "      <td>36</td>\n",
       "      <td>0.444444</td>\n",
       "      <td>262144</td>\n",
       "      <td>4</td>\n",
       "      <td>False</td>\n",
       "    </tr>\n",
       "    <tr>\n",
       "      <th>4</th>\n",
       "      <td>5</td>\n",
       "      <td>10</td>\n",
       "      <td>7</td>\n",
       "      <td>15</td>\n",
       "      <td>-5</td>\n",
       "      <td>50</td>\n",
       "      <td>0.500000</td>\n",
       "      <td>9765625</td>\n",
       "      <td>5</td>\n",
       "      <td>False</td>\n",
       "    </tr>\n",
       "  </tbody>\n",
       "</table>\n",
       "</div>"
      ],
      "text/plain": [
       "   a   b  a+2  a+b  a-b  a*b       a/b     a**b  a%b    a<4\n",
       "0  1   6    3    7   -5    6  0.166667        1    1   True\n",
       "1  2   7    4    9   -5   14  0.285714      128    2   True\n",
       "2  3   8    5   11   -5   24  0.375000     6561    3   True\n",
       "3  4   9    6   13   -5   36  0.444444   262144    4  False\n",
       "4  5  10    7   15   -5   50  0.500000  9765625    5  False"
      ]
     },
     "execution_count": 86,
     "metadata": {},
     "output_type": "execute_result"
    }
   ],
   "source": [
    "d5"
   ]
  },
  {
   "cell_type": "code",
   "execution_count": 91,
   "id": "db18aa12",
   "metadata": {},
   "outputs": [],
   "source": [
    "d5.insert(5,'copy of a+b', d5['a']+d5['b'])"
   ]
  },
  {
   "cell_type": "code",
   "execution_count": 92,
   "id": "defd2c8c",
   "metadata": {},
   "outputs": [
    {
     "data": {
      "text/html": [
       "<div>\n",
       "<style scoped>\n",
       "    .dataframe tbody tr th:only-of-type {\n",
       "        vertical-align: middle;\n",
       "    }\n",
       "\n",
       "    .dataframe tbody tr th {\n",
       "        vertical-align: top;\n",
       "    }\n",
       "\n",
       "    .dataframe thead th {\n",
       "        text-align: right;\n",
       "    }\n",
       "</style>\n",
       "<table border=\"1\" class=\"dataframe\">\n",
       "  <thead>\n",
       "    <tr style=\"text-align: right;\">\n",
       "      <th></th>\n",
       "      <th>a</th>\n",
       "      <th>b</th>\n",
       "      <th>copy of a</th>\n",
       "      <th>a+2</th>\n",
       "      <th>a+b</th>\n",
       "      <th>copy of a+b</th>\n",
       "      <th>copy of a</th>\n",
       "      <th>a-b</th>\n",
       "      <th>a*b</th>\n",
       "      <th>a/b</th>\n",
       "      <th>a**b</th>\n",
       "      <th>a%b</th>\n",
       "      <th>a&lt;4</th>\n",
       "    </tr>\n",
       "  </thead>\n",
       "  <tbody>\n",
       "    <tr>\n",
       "      <th>0</th>\n",
       "      <td>1</td>\n",
       "      <td>6</td>\n",
       "      <td>1</td>\n",
       "      <td>3</td>\n",
       "      <td>7</td>\n",
       "      <td>7</td>\n",
       "      <td>7</td>\n",
       "      <td>-5</td>\n",
       "      <td>6</td>\n",
       "      <td>0.166667</td>\n",
       "      <td>1</td>\n",
       "      <td>1</td>\n",
       "      <td>True</td>\n",
       "    </tr>\n",
       "    <tr>\n",
       "      <th>1</th>\n",
       "      <td>2</td>\n",
       "      <td>7</td>\n",
       "      <td>2</td>\n",
       "      <td>4</td>\n",
       "      <td>9</td>\n",
       "      <td>9</td>\n",
       "      <td>9</td>\n",
       "      <td>-5</td>\n",
       "      <td>14</td>\n",
       "      <td>0.285714</td>\n",
       "      <td>128</td>\n",
       "      <td>2</td>\n",
       "      <td>True</td>\n",
       "    </tr>\n",
       "    <tr>\n",
       "      <th>2</th>\n",
       "      <td>3</td>\n",
       "      <td>8</td>\n",
       "      <td>3</td>\n",
       "      <td>5</td>\n",
       "      <td>11</td>\n",
       "      <td>11</td>\n",
       "      <td>11</td>\n",
       "      <td>-5</td>\n",
       "      <td>24</td>\n",
       "      <td>0.375000</td>\n",
       "      <td>6561</td>\n",
       "      <td>3</td>\n",
       "      <td>True</td>\n",
       "    </tr>\n",
       "    <tr>\n",
       "      <th>3</th>\n",
       "      <td>4</td>\n",
       "      <td>9</td>\n",
       "      <td>4</td>\n",
       "      <td>6</td>\n",
       "      <td>13</td>\n",
       "      <td>13</td>\n",
       "      <td>13</td>\n",
       "      <td>-5</td>\n",
       "      <td>36</td>\n",
       "      <td>0.444444</td>\n",
       "      <td>262144</td>\n",
       "      <td>4</td>\n",
       "      <td>False</td>\n",
       "    </tr>\n",
       "    <tr>\n",
       "      <th>4</th>\n",
       "      <td>5</td>\n",
       "      <td>10</td>\n",
       "      <td>5</td>\n",
       "      <td>7</td>\n",
       "      <td>15</td>\n",
       "      <td>15</td>\n",
       "      <td>15</td>\n",
       "      <td>-5</td>\n",
       "      <td>50</td>\n",
       "      <td>0.500000</td>\n",
       "      <td>9765625</td>\n",
       "      <td>5</td>\n",
       "      <td>False</td>\n",
       "    </tr>\n",
       "  </tbody>\n",
       "</table>\n",
       "</div>"
      ],
      "text/plain": [
       "   a   b   copy of a  a+2  a+b  copy of a+b  copy of a  a-b  a*b       a/b  \\\n",
       "0  1   6           1    3    7            7          7   -5    6  0.166667   \n",
       "1  2   7           2    4    9            9          9   -5   14  0.285714   \n",
       "2  3   8           3    5   11           11         11   -5   24  0.375000   \n",
       "3  4   9           4    6   13           13         13   -5   36  0.444444   \n",
       "4  5  10           5    7   15           15         15   -5   50  0.500000   \n",
       "\n",
       "      a**b  a%b    a<4  \n",
       "0        1    1   True  \n",
       "1      128    2   True  \n",
       "2     6561    3   True  \n",
       "3   262144    4  False  \n",
       "4  9765625    5  False  "
      ]
     },
     "execution_count": 92,
     "metadata": {},
     "output_type": "execute_result"
    }
   ],
   "source": [
    "d5"
   ]
  },
  {
   "cell_type": "code",
   "execution_count": 101,
   "id": "ee564bb5",
   "metadata": {},
   "outputs": [
    {
     "ename": "ValueError",
     "evalue": "cannot insert a once, already exists",
     "output_type": "error",
     "traceback": [
      "\u001b[1;31m---------------------------------------------------------------------------\u001b[0m",
      "\u001b[1;31mValueError\u001b[0m                                Traceback (most recent call last)",
      "\u001b[1;32m~\\AppData\\Local\\Temp\\ipykernel_16072\\2758852815.py\u001b[0m in \u001b[0;36m<module>\u001b[1;34m\u001b[0m\n\u001b[1;32m----> 1\u001b[1;33m \u001b[0md5\u001b[0m\u001b[1;33m.\u001b[0m\u001b[0minsert\u001b[0m\u001b[1;33m(\u001b[0m\u001b[1;36m2\u001b[0m\u001b[1;33m,\u001b[0m\u001b[1;34m'a once'\u001b[0m\u001b[1;33m,\u001b[0m\u001b[0md5\u001b[0m\u001b[1;33m[\u001b[0m\u001b[1;34m'a'\u001b[0m\u001b[1;33m]\u001b[0m\u001b[1;33m)\u001b[0m  \u001b[1;31m# just run only once here.\u001b[0m\u001b[1;33m\u001b[0m\u001b[1;33m\u001b[0m\u001b[0m\n\u001b[0m\u001b[0;32m      2\u001b[0m \u001b[0md5\u001b[0m\u001b[1;33m.\u001b[0m\u001b[0minsert\u001b[0m\u001b[1;33m(\u001b[0m\u001b[1;36m2\u001b[0m\u001b[1;33m,\u001b[0m\u001b[1;34m'a twice'\u001b[0m\u001b[1;33m,\u001b[0m\u001b[0md5\u001b[0m\u001b[1;33m[\u001b[0m\u001b[1;34m'a'\u001b[0m\u001b[1;33m]\u001b[0m\u001b[1;33m)\u001b[0m \u001b[1;31m# see here the column is created with the same data which 'a' haves.\u001b[0m\u001b[1;33m\u001b[0m\u001b[1;33m\u001b[0m\u001b[0m\n\u001b[0;32m      3\u001b[0m \u001b[1;31m# once the column is created again we cannot create second time with same name since the column is already exists here.\u001b[0m\u001b[1;33m\u001b[0m\u001b[1;33m\u001b[0m\u001b[0m\n\u001b[0;32m      4\u001b[0m \u001b[1;31m# since i ran twice,the error is there.\u001b[0m\u001b[1;33m\u001b[0m\u001b[1;33m\u001b[0m\u001b[0m\n",
      "\u001b[1;32m~\\anaconda3\\lib\\site-packages\\pandas\\core\\frame.py\u001b[0m in \u001b[0;36minsert\u001b[1;34m(self, loc, column, value, allow_duplicates)\u001b[0m\n\u001b[0;32m   4441\u001b[0m         \u001b[1;32mif\u001b[0m \u001b[1;32mnot\u001b[0m \u001b[0mallow_duplicates\u001b[0m \u001b[1;32mand\u001b[0m \u001b[0mcolumn\u001b[0m \u001b[1;32min\u001b[0m \u001b[0mself\u001b[0m\u001b[1;33m.\u001b[0m\u001b[0mcolumns\u001b[0m\u001b[1;33m:\u001b[0m\u001b[1;33m\u001b[0m\u001b[1;33m\u001b[0m\u001b[0m\n\u001b[0;32m   4442\u001b[0m             \u001b[1;31m# Should this be a different kind of error??\u001b[0m\u001b[1;33m\u001b[0m\u001b[1;33m\u001b[0m\u001b[0m\n\u001b[1;32m-> 4443\u001b[1;33m             \u001b[1;32mraise\u001b[0m \u001b[0mValueError\u001b[0m\u001b[1;33m(\u001b[0m\u001b[1;34mf\"cannot insert {column}, already exists\"\u001b[0m\u001b[1;33m)\u001b[0m\u001b[1;33m\u001b[0m\u001b[1;33m\u001b[0m\u001b[0m\n\u001b[0m\u001b[0;32m   4444\u001b[0m         \u001b[1;32mif\u001b[0m \u001b[1;32mnot\u001b[0m \u001b[0misinstance\u001b[0m\u001b[1;33m(\u001b[0m\u001b[0mloc\u001b[0m\u001b[1;33m,\u001b[0m \u001b[0mint\u001b[0m\u001b[1;33m)\u001b[0m\u001b[1;33m:\u001b[0m\u001b[1;33m\u001b[0m\u001b[1;33m\u001b[0m\u001b[0m\n\u001b[0;32m   4445\u001b[0m             \u001b[1;32mraise\u001b[0m \u001b[0mTypeError\u001b[0m\u001b[1;33m(\u001b[0m\u001b[1;34m\"loc must be int\"\u001b[0m\u001b[1;33m)\u001b[0m\u001b[1;33m\u001b[0m\u001b[1;33m\u001b[0m\u001b[0m\n",
      "\u001b[1;31mValueError\u001b[0m: cannot insert a once, already exists"
     ]
    }
   ],
   "source": [
    "d5.insert(2,'a once',d5['a'])  # just run only once here.\n",
    "d5.insert(2,'a twice',d5['a']) # see here the column is created with the same data which 'a' haves.\n",
    "# once the column is created again we cannot create second time with same name since the column is already exists here.\n",
    "# since i ran twice,the error is there."
   ]
  },
  {
   "cell_type": "code",
   "execution_count": 102,
   "id": "7f68aba6",
   "metadata": {},
   "outputs": [
    {
     "data": {
      "text/html": [
       "<div>\n",
       "<style scoped>\n",
       "    .dataframe tbody tr th:only-of-type {\n",
       "        vertical-align: middle;\n",
       "    }\n",
       "\n",
       "    .dataframe tbody tr th {\n",
       "        vertical-align: top;\n",
       "    }\n",
       "\n",
       "    .dataframe thead th {\n",
       "        text-align: right;\n",
       "    }\n",
       "</style>\n",
       "<table border=\"1\" class=\"dataframe\">\n",
       "  <thead>\n",
       "    <tr style=\"text-align: right;\">\n",
       "      <th></th>\n",
       "      <th>a</th>\n",
       "      <th>b</th>\n",
       "      <th>a twice</th>\n",
       "      <th>a once</th>\n",
       "      <th>copy of a</th>\n",
       "      <th>a+2</th>\n",
       "      <th>a+b</th>\n",
       "      <th>copy of a+b</th>\n",
       "      <th>copy of a</th>\n",
       "      <th>a-b</th>\n",
       "      <th>a*b</th>\n",
       "      <th>a/b</th>\n",
       "      <th>a**b</th>\n",
       "      <th>a%b</th>\n",
       "      <th>a&lt;4</th>\n",
       "    </tr>\n",
       "  </thead>\n",
       "  <tbody>\n",
       "    <tr>\n",
       "      <th>0</th>\n",
       "      <td>1</td>\n",
       "      <td>6</td>\n",
       "      <td>1</td>\n",
       "      <td>1</td>\n",
       "      <td>1</td>\n",
       "      <td>3</td>\n",
       "      <td>7</td>\n",
       "      <td>7</td>\n",
       "      <td>7</td>\n",
       "      <td>-5</td>\n",
       "      <td>6</td>\n",
       "      <td>0.166667</td>\n",
       "      <td>1</td>\n",
       "      <td>1</td>\n",
       "      <td>True</td>\n",
       "    </tr>\n",
       "    <tr>\n",
       "      <th>1</th>\n",
       "      <td>2</td>\n",
       "      <td>7</td>\n",
       "      <td>2</td>\n",
       "      <td>2</td>\n",
       "      <td>2</td>\n",
       "      <td>4</td>\n",
       "      <td>9</td>\n",
       "      <td>9</td>\n",
       "      <td>9</td>\n",
       "      <td>-5</td>\n",
       "      <td>14</td>\n",
       "      <td>0.285714</td>\n",
       "      <td>128</td>\n",
       "      <td>2</td>\n",
       "      <td>True</td>\n",
       "    </tr>\n",
       "    <tr>\n",
       "      <th>2</th>\n",
       "      <td>3</td>\n",
       "      <td>8</td>\n",
       "      <td>3</td>\n",
       "      <td>3</td>\n",
       "      <td>3</td>\n",
       "      <td>5</td>\n",
       "      <td>11</td>\n",
       "      <td>11</td>\n",
       "      <td>11</td>\n",
       "      <td>-5</td>\n",
       "      <td>24</td>\n",
       "      <td>0.375000</td>\n",
       "      <td>6561</td>\n",
       "      <td>3</td>\n",
       "      <td>True</td>\n",
       "    </tr>\n",
       "    <tr>\n",
       "      <th>3</th>\n",
       "      <td>4</td>\n",
       "      <td>9</td>\n",
       "      <td>4</td>\n",
       "      <td>4</td>\n",
       "      <td>4</td>\n",
       "      <td>6</td>\n",
       "      <td>13</td>\n",
       "      <td>13</td>\n",
       "      <td>13</td>\n",
       "      <td>-5</td>\n",
       "      <td>36</td>\n",
       "      <td>0.444444</td>\n",
       "      <td>262144</td>\n",
       "      <td>4</td>\n",
       "      <td>False</td>\n",
       "    </tr>\n",
       "    <tr>\n",
       "      <th>4</th>\n",
       "      <td>5</td>\n",
       "      <td>10</td>\n",
       "      <td>5</td>\n",
       "      <td>5</td>\n",
       "      <td>5</td>\n",
       "      <td>7</td>\n",
       "      <td>15</td>\n",
       "      <td>15</td>\n",
       "      <td>15</td>\n",
       "      <td>-5</td>\n",
       "      <td>50</td>\n",
       "      <td>0.500000</td>\n",
       "      <td>9765625</td>\n",
       "      <td>5</td>\n",
       "      <td>False</td>\n",
       "    </tr>\n",
       "  </tbody>\n",
       "</table>\n",
       "</div>"
      ],
      "text/plain": [
       "   a   b  a twice  a once   copy of a  a+2  a+b  copy of a+b  copy of a  a-b  \\\n",
       "0  1   6        1       1           1    3    7            7          7   -5   \n",
       "1  2   7        2       2           2    4    9            9          9   -5   \n",
       "2  3   8        3       3           3    5   11           11         11   -5   \n",
       "3  4   9        4       4           4    6   13           13         13   -5   \n",
       "4  5  10        5       5           5    7   15           15         15   -5   \n",
       "\n",
       "   a*b       a/b     a**b  a%b    a<4  \n",
       "0    6  0.166667        1    1   True  \n",
       "1   14  0.285714      128    2   True  \n",
       "2   24  0.375000     6561    3   True  \n",
       "3   36  0.444444   262144    4  False  \n",
       "4   50  0.500000  9765625    5  False  "
      ]
     },
     "execution_count": 102,
     "metadata": {},
     "output_type": "execute_result"
    }
   ],
   "source": [
    "d5"
   ]
  },
  {
   "cell_type": "code",
   "execution_count": 109,
   "id": "2d2e5f20",
   "metadata": {},
   "outputs": [],
   "source": [
    "# suppose we need to create a bew column where we need to copy  only certain range of elements.\n",
    "d5['new_col']=d5['a'][0:3] # a new column is created with values upto 0 1 2 indexes of a such as 1 2 3 and remaining values filled with NaN"
   ]
  },
  {
   "cell_type": "code",
   "execution_count": 110,
   "id": "db86ebdd",
   "metadata": {},
   "outputs": [
    {
     "data": {
      "text/html": [
       "<div>\n",
       "<style scoped>\n",
       "    .dataframe tbody tr th:only-of-type {\n",
       "        vertical-align: middle;\n",
       "    }\n",
       "\n",
       "    .dataframe tbody tr th {\n",
       "        vertical-align: top;\n",
       "    }\n",
       "\n",
       "    .dataframe thead th {\n",
       "        text-align: right;\n",
       "    }\n",
       "</style>\n",
       "<table border=\"1\" class=\"dataframe\">\n",
       "  <thead>\n",
       "    <tr style=\"text-align: right;\">\n",
       "      <th></th>\n",
       "      <th>a</th>\n",
       "      <th>b</th>\n",
       "      <th>a twice</th>\n",
       "      <th>a once</th>\n",
       "      <th>copy of a</th>\n",
       "      <th>a+2</th>\n",
       "      <th>a+b</th>\n",
       "      <th>copy of a+b</th>\n",
       "      <th>copy of a</th>\n",
       "      <th>a-b</th>\n",
       "      <th>a*b</th>\n",
       "      <th>a/b</th>\n",
       "      <th>a**b</th>\n",
       "      <th>a%b</th>\n",
       "      <th>a&lt;4</th>\n",
       "      <th>new_col</th>\n",
       "    </tr>\n",
       "  </thead>\n",
       "  <tbody>\n",
       "    <tr>\n",
       "      <th>0</th>\n",
       "      <td>1</td>\n",
       "      <td>6</td>\n",
       "      <td>1</td>\n",
       "      <td>1</td>\n",
       "      <td>1</td>\n",
       "      <td>3</td>\n",
       "      <td>7</td>\n",
       "      <td>7</td>\n",
       "      <td>7</td>\n",
       "      <td>-5</td>\n",
       "      <td>6</td>\n",
       "      <td>0.166667</td>\n",
       "      <td>1</td>\n",
       "      <td>1</td>\n",
       "      <td>True</td>\n",
       "      <td>1.0</td>\n",
       "    </tr>\n",
       "    <tr>\n",
       "      <th>1</th>\n",
       "      <td>2</td>\n",
       "      <td>7</td>\n",
       "      <td>2</td>\n",
       "      <td>2</td>\n",
       "      <td>2</td>\n",
       "      <td>4</td>\n",
       "      <td>9</td>\n",
       "      <td>9</td>\n",
       "      <td>9</td>\n",
       "      <td>-5</td>\n",
       "      <td>14</td>\n",
       "      <td>0.285714</td>\n",
       "      <td>128</td>\n",
       "      <td>2</td>\n",
       "      <td>True</td>\n",
       "      <td>2.0</td>\n",
       "    </tr>\n",
       "    <tr>\n",
       "      <th>2</th>\n",
       "      <td>3</td>\n",
       "      <td>8</td>\n",
       "      <td>3</td>\n",
       "      <td>3</td>\n",
       "      <td>3</td>\n",
       "      <td>5</td>\n",
       "      <td>11</td>\n",
       "      <td>11</td>\n",
       "      <td>11</td>\n",
       "      <td>-5</td>\n",
       "      <td>24</td>\n",
       "      <td>0.375000</td>\n",
       "      <td>6561</td>\n",
       "      <td>3</td>\n",
       "      <td>True</td>\n",
       "      <td>3.0</td>\n",
       "    </tr>\n",
       "    <tr>\n",
       "      <th>3</th>\n",
       "      <td>4</td>\n",
       "      <td>9</td>\n",
       "      <td>4</td>\n",
       "      <td>4</td>\n",
       "      <td>4</td>\n",
       "      <td>6</td>\n",
       "      <td>13</td>\n",
       "      <td>13</td>\n",
       "      <td>13</td>\n",
       "      <td>-5</td>\n",
       "      <td>36</td>\n",
       "      <td>0.444444</td>\n",
       "      <td>262144</td>\n",
       "      <td>4</td>\n",
       "      <td>False</td>\n",
       "      <td>NaN</td>\n",
       "    </tr>\n",
       "    <tr>\n",
       "      <th>4</th>\n",
       "      <td>5</td>\n",
       "      <td>10</td>\n",
       "      <td>5</td>\n",
       "      <td>5</td>\n",
       "      <td>5</td>\n",
       "      <td>7</td>\n",
       "      <td>15</td>\n",
       "      <td>15</td>\n",
       "      <td>15</td>\n",
       "      <td>-5</td>\n",
       "      <td>50</td>\n",
       "      <td>0.500000</td>\n",
       "      <td>9765625</td>\n",
       "      <td>5</td>\n",
       "      <td>False</td>\n",
       "      <td>NaN</td>\n",
       "    </tr>\n",
       "  </tbody>\n",
       "</table>\n",
       "</div>"
      ],
      "text/plain": [
       "   a   b  a twice  a once   copy of a  a+2  a+b  copy of a+b  copy of a  a-b  \\\n",
       "0  1   6        1       1           1    3    7            7          7   -5   \n",
       "1  2   7        2       2           2    4    9            9          9   -5   \n",
       "2  3   8        3       3           3    5   11           11         11   -5   \n",
       "3  4   9        4       4           4    6   13           13         13   -5   \n",
       "4  5  10        5       5           5    7   15           15         15   -5   \n",
       "\n",
       "   a*b       a/b     a**b  a%b    a<4  new_col  \n",
       "0    6  0.166667        1    1   True      1.0  \n",
       "1   14  0.285714      128    2   True      2.0  \n",
       "2   24  0.375000     6561    3   True      3.0  \n",
       "3   36  0.444444   262144    4  False      NaN  \n",
       "4   50  0.500000  9765625    5  False      NaN  "
      ]
     },
     "execution_count": 110,
     "metadata": {},
     "output_type": "execute_result"
    }
   ],
   "source": [
    "d5"
   ]
  },
  {
   "cell_type": "markdown",
   "id": "6a7ff39d",
   "metadata": {},
   "source": [
    "# delete"
   ]
  },
  {
   "cell_type": "code",
   "execution_count": 111,
   "id": "ba5932c3",
   "metadata": {},
   "outputs": [],
   "source": [
    "del d5['copy of a'] # this column will be deleted ."
   ]
  },
  {
   "cell_type": "code",
   "execution_count": 112,
   "id": "9dd9b36a",
   "metadata": {},
   "outputs": [
    {
     "data": {
      "text/html": [
       "<div>\n",
       "<style scoped>\n",
       "    .dataframe tbody tr th:only-of-type {\n",
       "        vertical-align: middle;\n",
       "    }\n",
       "\n",
       "    .dataframe tbody tr th {\n",
       "        vertical-align: top;\n",
       "    }\n",
       "\n",
       "    .dataframe thead th {\n",
       "        text-align: right;\n",
       "    }\n",
       "</style>\n",
       "<table border=\"1\" class=\"dataframe\">\n",
       "  <thead>\n",
       "    <tr style=\"text-align: right;\">\n",
       "      <th></th>\n",
       "      <th>a</th>\n",
       "      <th>b</th>\n",
       "      <th>a twice</th>\n",
       "      <th>a once</th>\n",
       "      <th>copy of a</th>\n",
       "      <th>a+2</th>\n",
       "      <th>a+b</th>\n",
       "      <th>copy of a+b</th>\n",
       "      <th>a-b</th>\n",
       "      <th>a*b</th>\n",
       "      <th>a/b</th>\n",
       "      <th>a**b</th>\n",
       "      <th>a%b</th>\n",
       "      <th>a&lt;4</th>\n",
       "      <th>new_col</th>\n",
       "    </tr>\n",
       "  </thead>\n",
       "  <tbody>\n",
       "    <tr>\n",
       "      <th>0</th>\n",
       "      <td>1</td>\n",
       "      <td>6</td>\n",
       "      <td>1</td>\n",
       "      <td>1</td>\n",
       "      <td>1</td>\n",
       "      <td>3</td>\n",
       "      <td>7</td>\n",
       "      <td>7</td>\n",
       "      <td>-5</td>\n",
       "      <td>6</td>\n",
       "      <td>0.166667</td>\n",
       "      <td>1</td>\n",
       "      <td>1</td>\n",
       "      <td>True</td>\n",
       "      <td>1.0</td>\n",
       "    </tr>\n",
       "    <tr>\n",
       "      <th>1</th>\n",
       "      <td>2</td>\n",
       "      <td>7</td>\n",
       "      <td>2</td>\n",
       "      <td>2</td>\n",
       "      <td>2</td>\n",
       "      <td>4</td>\n",
       "      <td>9</td>\n",
       "      <td>9</td>\n",
       "      <td>-5</td>\n",
       "      <td>14</td>\n",
       "      <td>0.285714</td>\n",
       "      <td>128</td>\n",
       "      <td>2</td>\n",
       "      <td>True</td>\n",
       "      <td>2.0</td>\n",
       "    </tr>\n",
       "    <tr>\n",
       "      <th>2</th>\n",
       "      <td>3</td>\n",
       "      <td>8</td>\n",
       "      <td>3</td>\n",
       "      <td>3</td>\n",
       "      <td>3</td>\n",
       "      <td>5</td>\n",
       "      <td>11</td>\n",
       "      <td>11</td>\n",
       "      <td>-5</td>\n",
       "      <td>24</td>\n",
       "      <td>0.375000</td>\n",
       "      <td>6561</td>\n",
       "      <td>3</td>\n",
       "      <td>True</td>\n",
       "      <td>3.0</td>\n",
       "    </tr>\n",
       "    <tr>\n",
       "      <th>3</th>\n",
       "      <td>4</td>\n",
       "      <td>9</td>\n",
       "      <td>4</td>\n",
       "      <td>4</td>\n",
       "      <td>4</td>\n",
       "      <td>6</td>\n",
       "      <td>13</td>\n",
       "      <td>13</td>\n",
       "      <td>-5</td>\n",
       "      <td>36</td>\n",
       "      <td>0.444444</td>\n",
       "      <td>262144</td>\n",
       "      <td>4</td>\n",
       "      <td>False</td>\n",
       "      <td>NaN</td>\n",
       "    </tr>\n",
       "    <tr>\n",
       "      <th>4</th>\n",
       "      <td>5</td>\n",
       "      <td>10</td>\n",
       "      <td>5</td>\n",
       "      <td>5</td>\n",
       "      <td>5</td>\n",
       "      <td>7</td>\n",
       "      <td>15</td>\n",
       "      <td>15</td>\n",
       "      <td>-5</td>\n",
       "      <td>50</td>\n",
       "      <td>0.500000</td>\n",
       "      <td>9765625</td>\n",
       "      <td>5</td>\n",
       "      <td>False</td>\n",
       "      <td>NaN</td>\n",
       "    </tr>\n",
       "  </tbody>\n",
       "</table>\n",
       "</div>"
      ],
      "text/plain": [
       "   a   b  a twice  a once   copy of a  a+2  a+b  copy of a+b  a-b  a*b  \\\n",
       "0  1   6        1       1           1    3    7            7   -5    6   \n",
       "1  2   7        2       2           2    4    9            9   -5   14   \n",
       "2  3   8        3       3           3    5   11           11   -5   24   \n",
       "3  4   9        4       4           4    6   13           13   -5   36   \n",
       "4  5  10        5       5           5    7   15           15   -5   50   \n",
       "\n",
       "        a/b     a**b  a%b    a<4  new_col  \n",
       "0  0.166667        1    1   True      1.0  \n",
       "1  0.285714      128    2   True      2.0  \n",
       "2  0.375000     6561    3   True      3.0  \n",
       "3  0.444444   262144    4  False      NaN  \n",
       "4  0.500000  9765625    5  False      NaN  "
      ]
     },
     "execution_count": 112,
     "metadata": {},
     "output_type": "execute_result"
    }
   ],
   "source": [
    "d5"
   ]
  },
  {
   "cell_type": "code",
   "execution_count": 115,
   "id": "e4a319b1",
   "metadata": {},
   "outputs": [
    {
     "data": {
      "text/plain": [
       "0    0.166667\n",
       "1    0.285714\n",
       "2    0.375000\n",
       "3    0.444444\n",
       "4    0.500000\n",
       "Name: a/b, dtype: float64"
      ]
     },
     "execution_count": 115,
     "metadata": {},
     "output_type": "execute_result"
    }
   ],
   "source": [
    "d5.pop('a/b') # this column will be removed from the table"
   ]
  },
  {
   "cell_type": "code",
   "execution_count": 116,
   "id": "8581c925",
   "metadata": {},
   "outputs": [
    {
     "data": {
      "text/html": [
       "<div>\n",
       "<style scoped>\n",
       "    .dataframe tbody tr th:only-of-type {\n",
       "        vertical-align: middle;\n",
       "    }\n",
       "\n",
       "    .dataframe tbody tr th {\n",
       "        vertical-align: top;\n",
       "    }\n",
       "\n",
       "    .dataframe thead th {\n",
       "        text-align: right;\n",
       "    }\n",
       "</style>\n",
       "<table border=\"1\" class=\"dataframe\">\n",
       "  <thead>\n",
       "    <tr style=\"text-align: right;\">\n",
       "      <th></th>\n",
       "      <th>a</th>\n",
       "      <th>b</th>\n",
       "      <th>a twice</th>\n",
       "      <th>a once</th>\n",
       "      <th>copy of a</th>\n",
       "      <th>a+2</th>\n",
       "      <th>a+b</th>\n",
       "      <th>copy of a+b</th>\n",
       "      <th>a-b</th>\n",
       "      <th>a*b</th>\n",
       "      <th>a**b</th>\n",
       "      <th>a%b</th>\n",
       "      <th>a&lt;4</th>\n",
       "      <th>new_col</th>\n",
       "    </tr>\n",
       "  </thead>\n",
       "  <tbody>\n",
       "    <tr>\n",
       "      <th>0</th>\n",
       "      <td>1</td>\n",
       "      <td>6</td>\n",
       "      <td>1</td>\n",
       "      <td>1</td>\n",
       "      <td>1</td>\n",
       "      <td>3</td>\n",
       "      <td>7</td>\n",
       "      <td>7</td>\n",
       "      <td>-5</td>\n",
       "      <td>6</td>\n",
       "      <td>1</td>\n",
       "      <td>1</td>\n",
       "      <td>True</td>\n",
       "      <td>1.0</td>\n",
       "    </tr>\n",
       "    <tr>\n",
       "      <th>1</th>\n",
       "      <td>2</td>\n",
       "      <td>7</td>\n",
       "      <td>2</td>\n",
       "      <td>2</td>\n",
       "      <td>2</td>\n",
       "      <td>4</td>\n",
       "      <td>9</td>\n",
       "      <td>9</td>\n",
       "      <td>-5</td>\n",
       "      <td>14</td>\n",
       "      <td>128</td>\n",
       "      <td>2</td>\n",
       "      <td>True</td>\n",
       "      <td>2.0</td>\n",
       "    </tr>\n",
       "    <tr>\n",
       "      <th>2</th>\n",
       "      <td>3</td>\n",
       "      <td>8</td>\n",
       "      <td>3</td>\n",
       "      <td>3</td>\n",
       "      <td>3</td>\n",
       "      <td>5</td>\n",
       "      <td>11</td>\n",
       "      <td>11</td>\n",
       "      <td>-5</td>\n",
       "      <td>24</td>\n",
       "      <td>6561</td>\n",
       "      <td>3</td>\n",
       "      <td>True</td>\n",
       "      <td>3.0</td>\n",
       "    </tr>\n",
       "    <tr>\n",
       "      <th>3</th>\n",
       "      <td>4</td>\n",
       "      <td>9</td>\n",
       "      <td>4</td>\n",
       "      <td>4</td>\n",
       "      <td>4</td>\n",
       "      <td>6</td>\n",
       "      <td>13</td>\n",
       "      <td>13</td>\n",
       "      <td>-5</td>\n",
       "      <td>36</td>\n",
       "      <td>262144</td>\n",
       "      <td>4</td>\n",
       "      <td>False</td>\n",
       "      <td>NaN</td>\n",
       "    </tr>\n",
       "    <tr>\n",
       "      <th>4</th>\n",
       "      <td>5</td>\n",
       "      <td>10</td>\n",
       "      <td>5</td>\n",
       "      <td>5</td>\n",
       "      <td>5</td>\n",
       "      <td>7</td>\n",
       "      <td>15</td>\n",
       "      <td>15</td>\n",
       "      <td>-5</td>\n",
       "      <td>50</td>\n",
       "      <td>9765625</td>\n",
       "      <td>5</td>\n",
       "      <td>False</td>\n",
       "      <td>NaN</td>\n",
       "    </tr>\n",
       "  </tbody>\n",
       "</table>\n",
       "</div>"
      ],
      "text/plain": [
       "   a   b  a twice  a once   copy of a  a+2  a+b  copy of a+b  a-b  a*b  \\\n",
       "0  1   6        1       1           1    3    7            7   -5    6   \n",
       "1  2   7        2       2           2    4    9            9   -5   14   \n",
       "2  3   8        3       3           3    5   11           11   -5   24   \n",
       "3  4   9        4       4           4    6   13           13   -5   36   \n",
       "4  5  10        5       5           5    7   15           15   -5   50   \n",
       "\n",
       "      a**b  a%b    a<4  new_col  \n",
       "0        1    1   True      1.0  \n",
       "1      128    2   True      2.0  \n",
       "2     6561    3   True      3.0  \n",
       "3   262144    4  False      NaN  \n",
       "4  9765625    5  False      NaN  "
      ]
     },
     "execution_count": 116,
     "metadata": {},
     "output_type": "execute_result"
    }
   ],
   "source": [
    "d5"
   ]
  },
  {
   "cell_type": "markdown",
   "id": "eea73321",
   "metadata": {},
   "source": [
    "# lec 6\n",
    "## Python Pandas CSV files"
   ]
  },
  {
   "cell_type": "markdown",
   "id": "f88177c1",
   "metadata": {},
   "source": [
    "### Difference between CSV and XLS (excel) file formats:"
   ]
  },
  {
   "cell_type": "raw",
   "id": "8b50e2a9",
   "metadata": {},
   "source": [
    "1. CSV format is a plain text format in which values are separated by commas(Comma Separated Values)\n",
    "2. XLS file format is an Excel sheets binary file format which holds information about all the workshops in a file,including both content and formatting."
   ]
  },
  {
   "cell_type": "markdown",
   "id": "0674fbcf",
   "metadata": {},
   "source": [
    "# write CSV"
   ]
  },
  {
   "cell_type": "code",
   "execution_count": 117,
   "id": "ffbe3174",
   "metadata": {},
   "outputs": [
    {
     "name": "stdout",
     "output_type": "stream",
     "text": [
      "   a   b  a twice  a once   copy of a  a+2  a+b  copy of a+b  a-b  a*b  \\\n",
      "0  1   6        1       1           1    3    7            7   -5    6   \n",
      "1  2   7        2       2           2    4    9            9   -5   14   \n",
      "2  3   8        3       3           3    5   11           11   -5   24   \n",
      "3  4   9        4       4           4    6   13           13   -5   36   \n",
      "4  5  10        5       5           5    7   15           15   -5   50   \n",
      "\n",
      "      a**b  a%b    a<4  new_col  \n",
      "0        1    1   True      1.0  \n",
      "1      128    2   True      2.0  \n",
      "2     6561    3   True      3.0  \n",
      "3   262144    4  False      NaN  \n",
      "4  9765625    5  False      NaN  \n"
     ]
    }
   ],
   "source": [
    "import pandas as pd\n",
    "print(d5)"
   ]
  },
  {
   "cell_type": "code",
   "execution_count": 122,
   "id": "e685c042",
   "metadata": {},
   "outputs": [],
   "source": [
    "d5.to_csv(\"CSV file1.csv\") # in this file there will be indexes also present\n",
    " # 'C:\\\\Users\\\\Phanindra Reddy\\\\PANDAS youtube\\\\Wscube tech' --> at this location this file will be generated."
   ]
  },
  {
   "cell_type": "code",
   "execution_count": 123,
   "id": "f25b0b1a",
   "metadata": {},
   "outputs": [
    {
     "data": {
      "text/plain": [
       "'C:\\\\Users\\\\Phanindra Reddy\\\\PANDAS youtube\\\\Wscube tech'"
      ]
     },
     "execution_count": 123,
     "metadata": {},
     "output_type": "execute_result"
    }
   ],
   "source": [
    "import os\n",
    "os.getcwd()"
   ]
  },
  {
   "cell_type": "code",
   "execution_count": 124,
   "id": "1d9d3678",
   "metadata": {},
   "outputs": [],
   "source": [
    "d5.to_csv(\"CSV file1 without indexes.csv\",index=False)"
   ]
  },
  {
   "cell_type": "code",
   "execution_count": 129,
   "id": "3c885dd7",
   "metadata": {},
   "outputs": [],
   "source": [
    "# we can give the header also here.\n",
    "# the column names are replaced by these header values here.\n",
    "d5.to_csv(\"CSV file1 with header1.csv\",index=False,header=[1,2,3,4,5,6,7,8,9,10,11,12,13,14])"
   ]
  },
  {
   "cell_type": "markdown",
   "id": "d03db189",
   "metadata": {},
   "source": [
    "# lec 7\n",
    "## Read  python CSV files-with PANDAS"
   ]
  },
  {
   "cell_type": "markdown",
   "id": "45033545",
   "metadata": {},
   "source": [
    "# CSV files\n",
    "1. A simple way to store big data sets is to use CSV files.\n",
    "2. CSV files contaisn plain text and is a well known format that can be read by everyone including Pandas."
   ]
  },
  {
   "cell_type": "raw",
   "id": "4a143526",
   "metadata": {},
   "source": [
    "# In excel or csv files, there includes a very large amount of datasets which is very tough to work in the excel .\n",
    "# suppose any values are missing in the 2000 row.we cannot check every row since there are millions of rows there.\n",
    "# By using Numpy and pandas,we will apply some conditions here and work out on the missing data.\n"
   ]
  },
  {
   "cell_type": "code",
   "execution_count": 132,
   "id": "3ec9cdad",
   "metadata": {},
   "outputs": [
    {
     "name": "stdout",
     "output_type": "stream",
     "text": [
      "   Unnamed: 0  a   b  a twice  a once   copy of a  a+2  a+b  copy of a+b  a-b  \\\n",
      "0           0  1   6        1       1           1    3    7            7   -5   \n",
      "1           1  2   7        2       2           2    4    9            9   -5   \n",
      "2           2  3   8        3       3           3    5   11           11   -5   \n",
      "3           3  4   9        4       4           4    6   13           13   -5   \n",
      "4           4  5  10        5       5           5    7   15           15   -5   \n",
      "\n",
      "   a*b     a**b  a%b    a<4  new_col  \n",
      "0    6        1    1   True      1.0  \n",
      "1   14      128    2   True      2.0  \n",
      "2   24     6561    3   True      3.0  \n",
      "3   36   262144    4  False      NaN  \n",
      "4   50  9765625    5  False      NaN  \n",
      "   Unnamed: 0  a   b  a twice  a once   copy of a  a+2  a+b  copy of a+b  a-b  \\\n",
      "0           0  1   6        1       1           1    3    7            7   -5   \n",
      "1           1  2   7        2       2           2    4    9            9   -5   \n",
      "2           2  3   8        3       3           3    5   11           11   -5   \n",
      "3           3  4   9        4       4           4    6   13           13   -5   \n",
      "4           4  5  10        5       5           5    7   15           15   -5   \n",
      "\n",
      "   a*b     a**b  a%b    a<4  new_col  \n",
      "0    6        1    1   True      1.0  \n",
      "1   14      128    2   True      2.0  \n",
      "2   24     6561    3   True      3.0  \n",
      "3   36   262144    4  False      NaN  \n",
      "4   50  9765625    5  False      NaN  \n"
     ]
    }
   ],
   "source": [
    "import pandas as pd\n",
    "cs1=pd.read_csv(\"C:\\\\Users\\\\Phanindra Reddy\\\\PANDAS youtube\\\\Wscube tech\\\\CSV file1.csv\")\n",
    "print(cs1)\n",
    "# we need to convert it into dataframe\n",
    "df1=pd.DataFrame(cs1)\n",
    "print(df1)"
   ]
  },
  {
   "cell_type": "code",
   "execution_count": 136,
   "id": "8d8c63ad",
   "metadata": {},
   "outputs": [
    {
     "name": "stdout",
     "output_type": "stream",
     "text": [
      "   Unnamed: 0  a  b  a twice  a once   copy of a  a+2  a+b  copy of a+b  a-b  \\\n",
      "0           0  1  6        1       1           1    3    7            7   -5   \n",
      "1           1  2  7        2       2           2    4    9            9   -5   \n",
      "2           2  3  8        3       3           3    5   11           11   -5   \n",
      "\n",
      "   a*b  a**b  a%b   a<4  new_col  \n",
      "0    6     1    1  True      1.0  \n",
      "1   14   128    2  True      2.0  \n",
      "2   24  6561    3  True      3.0  \n",
      "\n",
      "   Unnamed: 0  a  b  a twice  a once   copy of a  a+2  a+b  copy of a+b  a-b  \\\n",
      "0           0  1  6        1       1           1    3    7            7   -5   \n",
      "1           1  2  7        2       2           2    4    9            9   -5   \n",
      "2           2  3  8        3       3           3    5   11           11   -5   \n",
      "\n",
      "   a*b  a**b  a%b   a<4  new_col  \n",
      "0    6     1    1  True      1.0  \n",
      "1   14   128    2  True      2.0  \n",
      "2   24  6561    3  True      3.0  \n"
     ]
    }
   ],
   "source": [
    "# in read_csv(),we can also perform some more parameters here.\n",
    "# we want to read only some rows ex-:3 here instead of all the data.\n",
    "cs2=pd.read_csv(\"C:\\\\Users\\\\Phanindra Reddy\\\\PANDAS youtube\\\\Wscube tech\\\\CSV file1.csv\",nrows=3)\n",
    "print(cs2)\n",
    "print()\n",
    "print(pd.DataFrame(cs2))"
   ]
  },
  {
   "cell_type": "code",
   "execution_count": 138,
   "id": "ddf44d9a",
   "metadata": {},
   "outputs": [
    {
     "name": "stdout",
     "output_type": "stream",
     "text": [
      "    b  a+b\n",
      "0   6    7\n",
      "1   7    9\n",
      "2   8   11\n",
      "3   9   13\n",
      "4  10   15\n",
      "\n",
      "    b  a+b\n",
      "0   6    7\n",
      "1   7    9\n",
      "2   8   11\n",
      "3   9   13\n",
      "4  10   15\n"
     ]
    }
   ],
   "source": [
    "# suppose we want to read only some columns from the csv file, then we can use usecols keyword here.\n",
    "cs2=pd.read_csv(\"C:\\\\Users\\\\Phanindra Reddy\\\\PANDAS youtube\\\\Wscube tech\\\\CSV file1.csv\",usecols=[\"b\",\"a+b\"])\n",
    "print(cs2) # we can give as many as columns we want in the usecols.\n",
    "print()\n",
    "print(pd.DataFrame(cs2))"
   ]
  },
  {
   "cell_type": "code",
   "execution_count": 139,
   "id": "1b2339bb",
   "metadata": {},
   "outputs": [
    {
     "name": "stdout",
     "output_type": "stream",
     "text": [
      "   Unnamed: 0  a twice  a+b\n",
      "0           0        1    7\n",
      "1           1        2    9\n",
      "2           2        3   11\n",
      "3           3        4   13\n",
      "4           4        5   15\n",
      "\n",
      "   Unnamed: 0  a twice  a+b\n",
      "0           0        1    7\n",
      "1           1        2    9\n",
      "2           2        3   11\n",
      "3           3        4   13\n",
      "4           4        5   15\n"
     ]
    }
   ],
   "source": [
    "# instead of names ,we can also give the column indexes in usecols.\n",
    "cs2=pd.read_csv(\"C:\\\\Users\\\\Phanindra Reddy\\\\PANDAS youtube\\\\Wscube tech\\\\CSV file1.csv\",usecols=[0,3,7])\n",
    "print(cs2)\n",
    "print()\n",
    "print(pd.DataFrame(cs2))"
   ]
  },
  {
   "cell_type": "code",
   "execution_count": 141,
   "id": "ddfcbde1",
   "metadata": {},
   "outputs": [
    {
     "name": "stdout",
     "output_type": "stream",
     "text": [
      "   0  1   6  1.1  1.2  1.3  3   7  7.1  -5  6.1      1.4  1.5   True  1.0\n",
      "0  1  2   7    2    2    2  4   9    9  -5   14      128    2   True  2.0\n",
      "1  3  4   9    4    4    4  6  13   13  -5   36   262144    4  False  NaN\n",
      "2  4  5  10    5    5    5  7  15   15  -5   50  9765625    5  False  NaN\n",
      "\n",
      "   0  1   6  1.1  1.2  1.3  3   7  7.1  -5  6.1      1.4  1.5   True  1.0\n",
      "0  1  2   7    2    2    2  4   9    9  -5   14      128    2   True  2.0\n",
      "1  3  4   9    4    4    4  6  13   13  -5   36   262144    4  False  NaN\n",
      "2  4  5  10    5    5    5  7  15   15  -5   50  9765625    5  False  NaN\n"
     ]
    }
   ],
   "source": [
    "# we can also skip rows whatever we don't want.\n",
    "# here we will try to skip the rows with indexes 0 and 3.\n",
    "cs2=pd.read_csv(\"C:\\\\Users\\\\Phanindra Reddy\\\\PANDAS youtube\\\\Wscube tech\\\\CSV file1.csv\",skiprows=[0,3])\n",
    "print(cs2)\n",
    "print()\n",
    "print(pd.DataFrame(cs2))"
   ]
  },
  {
   "cell_type": "code",
   "execution_count": 143,
   "id": "b0652cf3",
   "metadata": {},
   "outputs": [
    {
     "name": "stdout",
     "output_type": "stream",
     "text": [
      "    Unnamed: 0  a  a twice  a once   copy of a  a+2  a+b  copy of a+b  a-b  \\\n",
      "b                                                                            \n",
      "6            0  1        1       1           1    3    7            7   -5   \n",
      "7            1  2        2       2           2    4    9            9   -5   \n",
      "8            2  3        3       3           3    5   11           11   -5   \n",
      "9            3  4        4       4           4    6   13           13   -5   \n",
      "10           4  5        5       5           5    7   15           15   -5   \n",
      "\n",
      "    a*b     a**b  a%b    a<4  new_col  \n",
      "b                                      \n",
      "6     6        1    1   True      1.0  \n",
      "7    14      128    2   True      2.0  \n",
      "8    24     6561    3   True      3.0  \n",
      "9    36   262144    4  False      NaN  \n",
      "10   50  9765625    5  False      NaN  \n",
      "\n",
      "    Unnamed: 0  a  a twice  a once   copy of a  a+2  a+b  copy of a+b  a-b  \\\n",
      "b                                                                            \n",
      "6            0  1        1       1           1    3    7            7   -5   \n",
      "7            1  2        2       2           2    4    9            9   -5   \n",
      "8            2  3        3       3           3    5   11           11   -5   \n",
      "9            3  4        4       4           4    6   13           13   -5   \n",
      "10           4  5        5       5           5    7   15           15   -5   \n",
      "\n",
      "    a*b     a**b  a%b    a<4  new_col  \n",
      "b                                      \n",
      "6     6        1    1   True      1.0  \n",
      "7    14      128    2   True      2.0  \n",
      "8    24     6561    3   True      3.0  \n",
      "9    36   262144    4  False      NaN  \n",
      "10   50  9765625    5  False      NaN  \n"
     ]
    }
   ],
   "source": [
    "# we want any one of the column to acts as index,then we can use the index_col for it.\n",
    "cs2=pd.read_csv(\"C:\\\\Users\\\\Phanindra Reddy\\\\PANDAS youtube\\\\Wscube tech\\\\CSV file1.csv\",index_col=\"b\")\n",
    "print(cs2)\n",
    "print()\n",
    "print(pd.DataFrame(cs2)) # here column b will acts as index for the table."
   ]
  },
  {
   "cell_type": "code",
   "execution_count": 145,
   "id": "1858eb45",
   "metadata": {},
   "outputs": [
    {
     "name": "stdout",
     "output_type": "stream",
     "text": [
      "   2  3   8  3.1  3.2  3.3  5  11  11.1  -5  24     6561  3.4   True  3.0\n",
      "0  3  4   9    4    4    4  6  13    13  -5  36   262144    4  False  NaN\n",
      "1  4  5  10    5    5    5  7  15    15  -5  50  9765625    5  False  NaN\n",
      "\n",
      "   2  3   8  3.1  3.2  3.3  5  11  11.1  -5  24     6561  3.4   True  3.0\n",
      "0  3  4   9    4    4    4  6  13    13  -5  36   262144    4  False  NaN\n",
      "1  4  5  10    5    5    5  7  15    15  -5  50  9765625    5  False  NaN\n"
     ]
    }
   ],
   "source": [
    "# we want any one of the row to act as a header for the table.\n",
    "# for that we can use the header keyword here.\n",
    "cs2=pd.read_csv(\"C:\\\\Users\\\\Phanindra Reddy\\\\PANDAS youtube\\\\Wscube tech\\\\CSV file1.csv\",header=3)\n",
    "print(cs2)\n",
    "print()\n",
    "print(pd.DataFrame(cs2))  #here thr row with index 3 will acts as header for the table."
   ]
  },
  {
   "cell_type": "code",
   "execution_count": 146,
   "id": "b618ed1f",
   "metadata": {},
   "outputs": [
    {
     "name": "stdout",
     "output_type": "stream",
     "text": [
      "                                                                                    Indra\n",
      "NaN a b  a twice a once  copy of a a+2 a+b copy of a+b a-b a*b a**b    a%b a<4    new_col\n",
      "0.0 1 6  1       1      1          3   7   7           -5  6   1       1   True       1.0\n",
      "1.0 2 7  2       2      2          4   9   9           -5  14  128     2   True       2.0\n",
      "2.0 3 8  3       3      3          5   11  11          -5  24  6561    3   True       3.0\n",
      "3.0 4 9  4       4      4          6   13  13          -5  36  262144  4   False      NaN\n",
      "4.0 5 10 5       5      5          7   15  15          -5  50  9765625 5   False      NaN\n",
      "\n",
      "                                                                                    Indra\n",
      "NaN a b  a twice a once  copy of a a+2 a+b copy of a+b a-b a*b a**b    a%b a<4    new_col\n",
      "0.0 1 6  1       1      1          3   7   7           -5  6   1       1   True       1.0\n",
      "1.0 2 7  2       2      2          4   9   9           -5  14  128     2   True       2.0\n",
      "2.0 3 8  3       3      3          5   11  11          -5  24  6561    3   True       3.0\n",
      "3.0 4 9  4       4      4          6   13  13          -5  36  262144  4   False      NaN\n",
      "4.0 5 10 5       5      5          7   15  15          -5  50  9765625 5   False      NaN\n"
     ]
    }
   ],
   "source": [
    "# here we will give the heading of the table for some columns and  name it as \"Indra\"\n",
    "cs2=pd.read_csv(\"C:\\\\Users\\\\Phanindra Reddy\\\\PANDAS youtube\\\\Wscube tech\\\\CSV file1.csv\",names=[\"Indra\"])\n",
    "print(cs2)\n",
    "print()\n",
    "print(pd.DataFrame(cs2)) "
   ]
  },
  {
   "cell_type": "code",
   "execution_count": 148,
   "id": "9f0d4ebb",
   "metadata": {},
   "outputs": [
    {
     "name": "stdout",
     "output_type": "stream",
     "text": [
      "                      c1          c2   c3   c4           c5   c6   c7  \\\n",
      "NaN a b  a twice  a once   copy of a  a+2  a+b  copy of a+b  a-b  a*b   \n",
      "0.0 1 6  1             1           1    3    7            7   -5    6   \n",
      "1.0 2 7  2             2           2    4    9            9   -5   14   \n",
      "2.0 3 8  3             3           3    5   11           11   -5   24   \n",
      "3.0 4 9  4             4           4    6   13           13   -5   36   \n",
      "4.0 5 10 5             5           5    7   15           15   -5   50   \n",
      "\n",
      "                       c8   c9    c10      c11  \n",
      "NaN a b  a twice     a**b  a%b    a<4  new_col  \n",
      "0.0 1 6  1              1    1   True      1.0  \n",
      "1.0 2 7  2            128    2   True      2.0  \n",
      "2.0 3 8  3           6561    3   True      3.0  \n",
      "3.0 4 9  4         262144    4  False      NaN  \n",
      "4.0 5 10 5        9765625    5  False      NaN  \n",
      "\n",
      "                      c1          c2   c3   c4           c5   c6   c7  \\\n",
      "NaN a b  a twice  a once   copy of a  a+2  a+b  copy of a+b  a-b  a*b   \n",
      "0.0 1 6  1             1           1    3    7            7   -5    6   \n",
      "1.0 2 7  2             2           2    4    9            9   -5   14   \n",
      "2.0 3 8  3             3           3    5   11           11   -5   24   \n",
      "3.0 4 9  4             4           4    6   13           13   -5   36   \n",
      "4.0 5 10 5             5           5    7   15           15   -5   50   \n",
      "\n",
      "                       c8   c9    c10      c11  \n",
      "NaN a b  a twice     a**b  a%b    a<4  new_col  \n",
      "0.0 1 6  1              1    1   True      1.0  \n",
      "1.0 2 7  2            128    2   True      2.0  \n",
      "2.0 3 8  3           6561    3   True      3.0  \n",
      "3.0 4 9  4         262144    4  False      NaN  \n",
      "4.0 5 10 5        9765625    5  False      NaN  \n"
     ]
    }
   ],
   "source": [
    "# for the columns we are giving names here.\n",
    "cs2=pd.read_csv(\"C:\\\\Users\\\\Phanindra Reddy\\\\PANDAS youtube\\\\Wscube tech\\\\CSV file1.csv\",names=[\"c1\",\"c2\",\"c3\",\"c4\",\"c5\",\"c6\",\"c7\",\"c8\",\"c9\",\"c10\",\"c11\"])\n",
    "print(cs2)\n",
    "print()\n",
    "print(pd.DataFrame(cs2))"
   ]
  },
  {
   "cell_type": "code",
   "execution_count": 150,
   "id": "d2edaa31",
   "metadata": {},
   "outputs": [
    {
     "name": "stdout",
     "output_type": "stream",
     "text": [
      "    0  1   2        3       4           5    6    7            8    9    10  \\\n",
      "0  NaN  a   b  a twice  a once   copy of a  a+2  a+b  copy of a+b  a-b  a*b   \n",
      "1  0.0  1   6        1       1           1    3    7            7   -5    6   \n",
      "2  1.0  2   7        2       2           2    4    9            9   -5   14   \n",
      "3  2.0  3   8        3       3           3    5   11           11   -5   24   \n",
      "4  3.0  4   9        4       4           4    6   13           13   -5   36   \n",
      "5  4.0  5  10        5       5           5    7   15           15   -5   50   \n",
      "\n",
      "        11   12     13       14  \n",
      "0     a**b  a%b    a<4  new_col  \n",
      "1        1    1   True      1.0  \n",
      "2      128    2   True      2.0  \n",
      "3     6561    3   True      3.0  \n",
      "4   262144    4  False      NaN  \n",
      "5  9765625    5  False      NaN  \n",
      "\n",
      "    0  1   2        3       4           5    6    7            8    9    10  \\\n",
      "0  NaN  a   b  a twice  a once   copy of a  a+2  a+b  copy of a+b  a-b  a*b   \n",
      "1  0.0  1   6        1       1           1    3    7            7   -5    6   \n",
      "2  1.0  2   7        2       2           2    4    9            9   -5   14   \n",
      "3  2.0  3   8        3       3           3    5   11           11   -5   24   \n",
      "4  3.0  4   9        4       4           4    6   13           13   -5   36   \n",
      "5  4.0  5  10        5       5           5    7   15           15   -5   50   \n",
      "\n",
      "        11   12     13       14  \n",
      "0     a**b  a%b    a<4  new_col  \n",
      "1        1    1   True      1.0  \n",
      "2      128    2   True      2.0  \n",
      "3     6561    3   True      3.0  \n",
      "4   262144    4  False      NaN  \n",
      "5  9765625    5  False      NaN  \n"
     ]
    }
   ],
   "source": [
    "cs2=pd.read_csv(\"C:\\\\Users\\\\Phanindra Reddy\\\\PANDAS youtube\\\\Wscube tech\\\\CSV file1.csv\",header=None)\n",
    "print(cs2)\n",
    "print()\n",
    "print(pd.DataFrame(cs2)) # gives the default values in the header."
   ]
  },
  {
   "cell_type": "code",
   "execution_count": 152,
   "id": "1b90f6b1",
   "metadata": {},
   "outputs": [
    {
     "name": "stdout",
     "output_type": "stream",
     "text": [
      "   col0 col1 col2     col3    col4        col5 col6 col7         col8 col9  \\\n",
      "0   NaN    a    b  a twice  a once   copy of a  a+2  a+b  copy of a+b  a-b   \n",
      "1   0.0    1    6        1       1           1    3    7            7   -5   \n",
      "2   1.0    2    7        2       2           2    4    9            9   -5   \n",
      "3   2.0    3    8        3       3           3    5   11           11   -5   \n",
      "4   3.0    4    9        4       4           4    6   13           13   -5   \n",
      "5   4.0    5   10        5       5           5    7   15           15   -5   \n",
      "\n",
      "  col10    col11 col12  col13    col14  \n",
      "0   a*b     a**b   a%b    a<4  new_col  \n",
      "1     6        1     1   True      1.0  \n",
      "2    14      128     2   True      2.0  \n",
      "3    24     6561     3   True      3.0  \n",
      "4    36   262144     4  False      NaN  \n",
      "5    50  9765625     5  False      NaN  \n",
      "\n",
      "   col0 col1 col2     col3    col4        col5 col6 col7         col8 col9  \\\n",
      "0   NaN    a    b  a twice  a once   copy of a  a+2  a+b  copy of a+b  a-b   \n",
      "1   0.0    1    6        1       1           1    3    7            7   -5   \n",
      "2   1.0    2    7        2       2           2    4    9            9   -5   \n",
      "3   2.0    3    8        3       3           3    5   11           11   -5   \n",
      "4   3.0    4    9        4       4           4    6   13           13   -5   \n",
      "5   4.0    5   10        5       5           5    7   15           15   -5   \n",
      "\n",
      "  col10    col11 col12  col13    col14  \n",
      "0   a*b     a**b   a%b    a<4  new_col  \n",
      "1     6        1     1   True      1.0  \n",
      "2    14      128     2   True      2.0  \n",
      "3    24     6561     3   True      3.0  \n",
      "4    36   262144     4  False      NaN  \n",
      "5    50  9765625     5  False      NaN  \n"
     ]
    },
    {
     "name": "stderr",
     "output_type": "stream",
     "text": [
      "C:\\Users\\Phanindra Reddy\\AppData\\Local\\Temp\\ipykernel_16072\\275521145.py:2: FutureWarning: The prefix argument has been deprecated and will be removed in a future version. Use a list comprehension on the column names in the future.\n",
      "\n",
      "\n",
      "  cs2=pd.read_csv(\"C:\\\\Users\\\\Phanindra Reddy\\\\PANDAS youtube\\\\Wscube tech\\\\CSV file1.csv\",header=None,prefix=\"col\")\n"
     ]
    }
   ],
   "source": [
    "# along with indexes such as 0 1 2 3,we can also add the prefixes such as col etc.\n",
    "cs2=pd.read_csv(\"C:\\\\Users\\\\Phanindra Reddy\\\\PANDAS youtube\\\\Wscube tech\\\\CSV file1.csv\",header=None,prefix=\"col\")\n",
    "print(cs2)\n",
    "print()\n",
    "print(pd.DataFrame(cs2))"
   ]
  },
  {
   "cell_type": "code",
   "execution_count": 153,
   "id": "07fa2562",
   "metadata": {},
   "outputs": [
    {
     "name": "stdout",
     "output_type": "stream",
     "text": [
      "   Unnamed: 0  a     b  a twice  a once   copy of a  a+2  a+b  copy of a+b  \\\n",
      "0           0  1   6.0        1       1           1    3    7            7   \n",
      "1           1  2   7.0        2       2           2    4    9            9   \n",
      "2           2  3   8.0        3       3           3    5   11           11   \n",
      "3           3  4   9.0        4       4           4    6   13           13   \n",
      "4           4  5  10.0        5       5           5    7   15           15   \n",
      "\n",
      "   a-b  a*b     a**b  a%b    a<4  new_col  \n",
      "0   -5    6        1    1   True      1.0  \n",
      "1   -5   14      128    2   True      2.0  \n",
      "2   -5   24     6561    3   True      3.0  \n",
      "3   -5   36   262144    4  False      NaN  \n",
      "4   -5   50  9765625    5  False      NaN  \n",
      "   Unnamed: 0  a     b  a twice  a once   copy of a  a+2  a+b  copy of a+b  \\\n",
      "0           0  1   6.0        1       1           1    3    7            7   \n",
      "1           1  2   7.0        2       2           2    4    9            9   \n",
      "2           2  3   8.0        3       3           3    5   11           11   \n",
      "3           3  4   9.0        4       4           4    6   13           13   \n",
      "4           4  5  10.0        5       5           5    7   15           15   \n",
      "\n",
      "   a-b  a*b     a**b  a%b    a<4  new_col  \n",
      "0   -5    6        1    1   True      1.0  \n",
      "1   -5   14      128    2   True      2.0  \n",
      "2   -5   24     6561    3   True      3.0  \n",
      "3   -5   36   262144    4  False      NaN  \n",
      "4   -5   50  9765625    5  False      NaN  \n"
     ]
    }
   ],
   "source": [
    "# suppose we want to convert any column  data into another datatype,then we can use the dtype and dictionary.\n",
    "import pandas as pd\n",
    "cs1=pd.read_csv(\"C:\\\\Users\\\\Phanindra Reddy\\\\PANDAS youtube\\\\Wscube tech\\\\CSV file1.csv\",dtype={\"b\":\"float\"})\n",
    "print(cs1) # here b will have the float datatype.\n",
    "df1=pd.DataFrame(cs1)\n",
    "print(df1)"
   ]
  },
  {
   "cell_type": "code",
   "execution_count": null,
   "id": "1f078e65",
   "metadata": {},
   "outputs": [],
   "source": []
  }
 ],
 "metadata": {
  "kernelspec": {
   "display_name": "Python 3 (ipykernel)",
   "language": "python",
   "name": "python3"
  },
  "language_info": {
   "codemirror_mode": {
    "name": "ipython",
    "version": 3
   },
   "file_extension": ".py",
   "mimetype": "text/x-python",
   "name": "python",
   "nbconvert_exporter": "python",
   "pygments_lexer": "ipython3",
   "version": "3.9.13"
  }
 },
 "nbformat": 4,
 "nbformat_minor": 5
}
